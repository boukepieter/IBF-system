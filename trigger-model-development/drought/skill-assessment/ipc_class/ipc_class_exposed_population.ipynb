{
 "cells": [
  {
   "cell_type": "markdown",
   "metadata": {},
   "source": [
    "# Calculate Exposed Population to IPC-Class 3"
   ]
  },
  {
   "cell_type": "markdown",
   "metadata": {},
   "source": [
    "This script makes use of the FEWSNET Food Security classification, which is classified according to the [Integrated Phase Classification (IPC) V3.0](https://fews.net/IPC). \n",
    "\n",
    "The zips files to be downloaded in this script contains three files \n",
    "\n",
    "* _CS: Current Situation\n",
    "* _ML1: Near-term projection - (next month)\n",
    "* _ML2: Medium-term projection - (next four months)\n",
    "\n",
    "The shapefiles contain the phases of food security for that period. The five phases are: \n",
    "1. Minimal\n",
    "2. Stressed\n",
    "3. Crisis\n",
    "4. Emergency\n",
    "5. Famine\n",
    "\n",
    "Other additional values which might occur in the shapefiles include \n",
    "66 = water, 88 = parks, forests, reserves, 99 = No Data or Missing Data. \n",
    "\n",
    "More information [FEWSNET Food Securty Data](http://shapefiles.fews.net.s3.amazonaws.com/HFIC/FEWS_NET_Food_Security_Data_v3.pdf)"
   ]
  },
  {
   "cell_type": "markdown",
   "metadata": {},
   "source": [
    "# Import packages"
   ]
  },
  {
   "cell_type": "code",
   "execution_count": 25,
   "metadata": {},
   "outputs": [
    {
     "name": "stderr",
     "output_type": "stream",
     "text": [
      "C:\\Users\\MPanis\\AppData\\Local\\Continuum\\anaconda3\\lib\\site-packages\\statsmodels\\tools\\_testing.py:19: FutureWarning: pandas.util.testing is deprecated. Use the functions in the public API at pandas.testing instead.\n",
      "  import pandas.util.testing as tm\n"
     ]
    }
   ],
   "source": [
    "#!/usr/bin/env python\n",
    "# coding: utf-8\n",
    "\n",
    "#Make sure you have the ritht folder structure\n",
    "#../data/Shapefile\n",
    "# .../data/Shapefile/South_Africa_Zips\n",
    "\n",
    "import subprocess\n",
    "import requests\n",
    "import urllib.request\n",
    "import zipfile\n",
    "import os\n",
    "import shutil\n",
    "import geopandas as gpd\n",
    "from bs4 import BeautifulSoup\n",
    "import urllib.request\n",
    "from os import listdir\n",
    "from os.path import isfile, join\n",
    "import pandas as pd\n",
    "import ee\n",
    "import os\n",
    "import glob\n",
    "from zipfile import ZipFile\n",
    "import datetime as dt\n",
    "\n",
    "# matplotlib\n",
    "import matplotlib.pyplot as plt\n",
    "from matplotlib.colors import ListedColormap\n",
    "import seaborn as sns\n",
    " \n",
    "import descartes \n",
    "import mapclassify\n",
    "from matplotlib.pyplot import figure "
   ]
  },
  {
   "cell_type": "markdown",
   "metadata": {},
   "source": [
    "**NOTE IF YOU ALREADY DOWNLOADED THE DATA, SCROLL DOWN TO START THE SCRIPT FROM 2.**"
   ]
  },
  {
   "cell_type": "markdown",
   "metadata": {},
   "source": [
    "# 1. Download data from FEWSNET via Google Earth Engine"
   ]
  },
  {
   "cell_type": "code",
   "execution_count": 5,
   "metadata": {},
   "outputs": [
    {
     "data": {
      "text/html": [
       "<p>To authorize access needed by Earth Engine, open the following\n",
       "        URL in a web browser and follow the instructions:</p>\n",
       "        <p><a href=https://accounts.google.com/o/oauth2/auth?client_id=517222506229-vsmmajv00ul0bs7p89v5m89qs8eb9359.apps.googleusercontent.com&scope=https%3A%2F%2Fwww.googleapis.com%2Fauth%2Fearthengine+https%3A%2F%2Fwww.googleapis.com%2Fauth%2Fdevstorage.full_control&redirect_uri=urn%3Aietf%3Awg%3Aoauth%3A2.0%3Aoob&response_type=code>https://accounts.google.com/o/oauth2/auth?client_id=517222506229-vsmmajv00ul0bs7p89v5m89qs8eb9359.apps.googleusercontent.com&scope=https%3A%2F%2Fwww.googleapis.com%2Fauth%2Fearthengine+https%3A%2F%2Fwww.googleapis.com%2Fauth%2Fdevstorage.full_control&redirect_uri=urn%3Aietf%3Awg%3Aoauth%3A2.0%3Aoob&response_type=code</a></p>\n",
       "        <p>The authorization workflow will generate a code, which you\n",
       "        should paste in the box below</p>\n",
       "        "
      ],
      "text/plain": [
       "<IPython.core.display.HTML object>"
      ]
     },
     "metadata": {},
     "output_type": "display_data"
    },
    {
     "name": "stdout",
     "output_type": "stream",
     "text": [
      "Enter verification code: 4/1AY0e-g4qqyoLXL3moYQ4UwVAV93plt7qt3HbvE89bheZN2HkCFkg7cZaJH8\n",
      "\n",
      "Successfully saved authorization token.\n"
     ]
    }
   ],
   "source": [
    "ee.Authenticate()"
   ]
  },
  {
   "cell_type": "code",
   "execution_count": 6,
   "metadata": {},
   "outputs": [],
   "source": [
    "ee.Initialize()"
   ]
  },
  {
   "cell_type": "code",
   "execution_count": 7,
   "metadata": {},
   "outputs": [],
   "source": [
    "ex = ['.shp', '.prj', '.dbf', '.shx']\n",
    "file_paths = []\n",
    "i=1\n",
    "\n",
    "def zipshape(directory,export):\n",
    "    for (root, directories, files) in os.walk(directory):\n",
    "        for filename in files:\n",
    "            if filename.endswith('.shp'):\n",
    "                file_paths=[]\n",
    "                filebase = filename.split('.')[0]\n",
    "                try:\n",
    "                    for things in ex:\n",
    "                        if os.path.exists(os.path.join(root, filebase+things)):\n",
    "                            filepath = os.path.join(root, filebase+things)\n",
    "                            #print(filepath)\n",
    "                            file_paths.append(filepath)\n",
    "                    os.chdir(export)\n",
    "                    if not os.path.exists(filebase+'.zip') and int(len(file_paths))==int(4):\n",
    "                        with ZipFile(filebase+'.zip','w') as zip:\n",
    "                            print(\"Creating zipped folder \"+str(filebase)+'.zip'+' at '+str(export))\n",
    "                            # writing each file one by one\n",
    "                            for file in file_paths:\n",
    "                                fname=os.path.basename(file)\n",
    "                                zip.write(file,fname)\n",
    "                    else:\n",
    "                        print('File already exists: '+str(filebase+'.zip')+' SKIPPING')\n",
    "                except:\n",
    "                    pass\n"
   ]
  },
  {
   "cell_type": "code",
   "execution_count": 8,
   "metadata": {},
   "outputs": [
    {
     "data": {
      "text/plain": [
       "'D:\\\\Drought_IBF\\\\zwe'"
      ]
     },
     "execution_count": 8,
     "metadata": {},
     "output_type": "execute_result"
    }
   ],
   "source": [
    "os.getcwd() #current working directory"
   ]
  },
  {
   "cell_type": "code",
   "execution_count": 9,
   "metadata": {},
   "outputs": [],
   "source": [
    "mypath = \"D:/Drought_IBF/zwe/data/Shapefile\"\n",
    "\n",
    "#make the files data/Shapefile/South_Africa_Zips/"
   ]
  },
  {
   "cell_type": "markdown",
   "metadata": {},
   "source": [
    "Create URL For the Area of interest, copy-paste the url from the browser and change the page=number into **page={0}\".format(pagenum)** "
   ]
  },
  {
   "cell_type": "code",
   "execution_count": 10,
   "metadata": {},
   "outputs": [
    {
     "name": "stdout",
     "output_type": "stream",
     "text": [
      "Page number:0\n",
      "Page number:1\n",
      "Page number:2\n",
      "Page number:3\n",
      "Page number:4\n",
      "Page number:5\n",
      "Page number:6\n"
     ]
    }
   ],
   "source": [
    "url_download_list_zip = []\n",
    "\n",
    "for pagenum in range (0,100):\n",
    "    #Main page url for Western Africa\n",
    "    #url = \"https://fews.net/fews-data/333?tid=11&field_data_portal_date_start%5Bvalue%5D%5Byear%5D=2009&field_data_portal_date_start%5Bvalue%5D%5Bmonth%5D=1&field_data_portal_date_end%5Bvalue%5D%5Byear%5D=2020&field_data_portal_date_end%5Bvalue%5D%5Bmonth%5D=&page={0}\".format(pagenum)\n",
    "    # Main page url for East Africa\n",
    "    #url = \"http://fews.net/fews-data/333?tid=23&field_data_portal_date_start%5Bvalue%5D%5Byear%5D=&field_data_portal_date_start%5Bvalue%5D%5Bmonth%5D=&field_data_portal_date_end%5Bvalue%5D%5Byear%5D=&field_data_portal_date_end%5Bvalue%5D%5Bmonth%5D=&page={0}\".format(pagenum)\n",
    "    #Main page url for Southern Africa\n",
    "    url = \"https://fews.net/fews-data/333?tid=34&field_data_portal_date_start%5Bvalue%5D%5Byear%5D=2009&field_data_portal_date_start%5Bvalue%5D%5Bmonth%5D=1&field_data_portal_date_end%5Bvalue%5D%5Byear%5D=2020&field_data_portal_date_end%5Bvalue%5D%5Bmonth%5D=12&page={0}\".format(pagenum)\n",
    "\n",
    "    print(\"Page number:\" + str(pagenum))\n",
    "    resp = urllib.request.urlopen(url)\n",
    "    soup = BeautifulSoup(resp, from_encoding=resp.info().get_param('charset'))\n",
    "    link_list = []\n",
    "    \n",
    "    # Find all links from main page\n",
    "    for link in soup.find_all('a', href=True): \n",
    "        link_list.append(link['href'])\n",
    "        \n",
    "    # if it contains node, it mains that there is data on that page number\n",
    "    if any(\"/node/\" in s for s in link_list):\n",
    "        \n",
    "        # we only need the content link that links to the zipfile data (shapefiles)\n",
    "        url_download_list = [s for s in link_list if \"/content/\" in s]\n",
    "        \n",
    "        #Find all zip files and on that link and save that in a list\n",
    "        for downloadurl in url_download_list:\n",
    "            resp = urllib.request.urlopen(\"http://fews.net/{0}\".format(downloadurl))\n",
    "            soup = BeautifulSoup(resp, \"lxml\", from_encoding=resp.info().get_param('charset'))\n",
    "            \n",
    "            link_list = []\n",
    "            for link in soup.find_all('a', href=True): \n",
    "                link_list.append(link['href'])\n",
    "            url_download_list_zip.append([s for s in link_list if \".zip\" in s][0])  \n",
    "    else:\n",
    "        break\n",
    "        \n",
    "# zip occurs twice in the extracted website link list, remove duplicates:        \n",
    "url_download_list_zip = list(set(url_download_list_zip))\n"
   ]
  },
  {
   "cell_type": "code",
   "execution_count": 12,
   "metadata": {},
   "outputs": [
    {
     "data": {
      "text/plain": [
       "['http://s3.amazonaws.com/shapefiles.fews.net/HFIC/SA/southern-africa201910.zip',\n",
       " 'http://shapefiles.fews.net.s3.amazonaws.com/HFIC/SA/southern-africa201207.zip',\n",
       " 'http://shapefiles.fews.net.s3.amazonaws.com/HFIC/SA/southern-africa201007.zip',\n",
       " 'http://shapefiles.fews.net.s3.amazonaws.com/HFIC/SA/southern-africa201812.zip',\n",
       " 'http://shapefiles.fews.net.s3.amazonaws.com/HFIC/SA/southern-africa201507.zip',\n",
       " 'http://shapefiles.fews.net.s3.amazonaws.com/HFIC/SA/southern-africa201310.zip',\n",
       " 'http://shapefiles.fews.net.s3.amazonaws.com/HFIC/SA/southern-africa202010.zip',\n",
       " 'http://shapefiles.fews.net.s3.amazonaws.com/HFIC/SA/southern-africa201806.zip',\n",
       " 'http://s3.amazonaws.com/shapefiles.fews.net/HFIC/SA/southern-africa202002.zip',\n",
       " 'http://shapefiles.fews.net.s3.amazonaws.com/HFIC/SA/southern-africa201010.zip',\n",
       " 'http://shapefiles.fews.net.s3.amazonaws.com/HFIC/SA/southern-africa201606.zip',\n",
       " 'http://shapefiles.fews.net.s3.amazonaws.com/HFIC/SA/southern-africa202007.zip',\n",
       " 'http://shapefiles.fews.net.s3.amazonaws.com/HFIC/SA/southern-africa201410.zip',\n",
       " 'http://shapefiles.fews.net.s3.amazonaws.com/HFIC/SA/southern-africa201810.zip',\n",
       " 'http://s3.amazonaws.com/shapefiles.fews.net/HFIC/SA/southern-africa202003.zip',\n",
       " 'http://shapefiles.fews.net.s3.amazonaws.com/HFIC/SA/southern-africa201702.zip',\n",
       " 'http://shapefiles.fews.net.s3.amazonaws.com/HFIC/SA/southern-africa201404.zip',\n",
       " 'http://shapefiles.fews.net.s3.amazonaws.com/HFIC/SA/southern-africa200907.zip',\n",
       " 'http://shapefiles.fews.net.s3.amazonaws.com/HFIC/SA/southern-africa202006.zip',\n",
       " 'http://shapefiles.fews.net.s3.amazonaws.com/HFIC/SA/southern-africa201401.zip',\n",
       " 'http://shapefiles.fews.net.s3.amazonaws.com/HFIC/SA/southern-africa201210.zip',\n",
       " 'http://shapefiles.fews.net.s3.amazonaws.com/HFIC/SA/southern-africa201802.zip',\n",
       " 'http://shapefiles.fews.net.s3.amazonaws.com/HFIC/SA/southern-africa201510.zip',\n",
       " 'http://shapefiles.fews.net.s3.amazonaws.com/HFIC/SA/southern-africa201004.zip',\n",
       " 'http://shapefiles.fews.net.s3.amazonaws.com/HFIC/SA/southern-africa201610.zip',\n",
       " 'http://shapefiles.fews.net.s3.amazonaws.com/HFIC/SA/southern-africa201501.zip',\n",
       " 'http://shapefiles.fews.net.s3.amazonaws.com/HFIC/SA/southern-africa201710.zip',\n",
       " 'http://shapefiles.fews.net.s3.amazonaws.com/HFIC/SA/southern-africa201504.zip',\n",
       " 'http://shapefiles.fews.net.s3.amazonaws.com/HFIC/SA/southern-africa201307.zip',\n",
       " 'http://shapefiles.fews.net.s3.amazonaws.com/HFIC/SA/southern-africa202009.zip',\n",
       " 'http://shapefiles.fews.net.s3.amazonaws.com/HFIC/SA/southern-africa200910.zip',\n",
       " 'http://shapefiles.fews.net.s3.amazonaws.com/HFIC/SA/southern-africa201301.zip',\n",
       " 'http://s3.amazonaws.com/shapefiles.fews.net/HFIC/SA/southern-africa202005.zip',\n",
       " 'http://shapefiles.fews.net.s3.amazonaws.com/HFIC/SA/southern-africa201407.zip',\n",
       " 'http://shapefiles.fews.net.s3.amazonaws.com/HFIC/SA/southern-africa201304.zip',\n",
       " 'http://shapefiles.fews.net.s3.amazonaws.com/HFIC/SA/southern-africa201101.zip',\n",
       " 'http://shapefiles.fews.net.s3.amazonaws.com/HFIC/SA/southern-africa202008.zip',\n",
       " 'http://shapefiles.fews.net.s3.amazonaws.com/HFIC/SA/southern-africa201706.zip',\n",
       " 'http://shapefiles.fews.net.s3.amazonaws.com/HFIC/SA/southern-africa201602.zip',\n",
       " 'http://shapefiles.fews.net.s3.amazonaws.com/HFIC/SA/southern-africa201107.zip',\n",
       " 'http://s3.amazonaws.com/shapefiles.fews.net/HFIC/SA/southern-africa202004.zip',\n",
       " 'http://shapefiles.fews.net.s3.amazonaws.com/HFIC/SA/southern-africa201902.zip',\n",
       " 'http://s3.amazonaws.com/shapefiles.fews.net/HFIC/WA/west-africa202002.zip',\n",
       " 'http://shapefiles.fews.net.s3.amazonaws.com/HFIC/SA/southern-africa201001.zip',\n",
       " 'http://shapefiles.fews.net.s3.amazonaws.com/HFIC/SA/southern-africa201104.zip',\n",
       " 'http://shapefiles.fews.net.s3.amazonaws.com/HFIC/SA/southern-africa201906.zip',\n",
       " 'http://shapefiles.fews.net.s3.amazonaws.com/HFIC/SA/southern-africa201110.zip',\n",
       " 'http://shapefiles.fews.net.s3.amazonaws.com/HFIC/SA/southern-africa202012.zip',\n",
       " 'http://shapefiles.fews.net.s3.amazonaws.com/HFIC/SA/southern-africa201204.zip',\n",
       " 'http://shapefiles.fews.net.s3.amazonaws.com/HFIC/SA/southern-africa201201.zip']"
      ]
     },
     "execution_count": 12,
     "metadata": {},
     "output_type": "execute_result"
    }
   ],
   "source": [
    "url_download_list_zip"
   ]
  },
  {
   "cell_type": "code",
   "execution_count": 13,
   "metadata": {},
   "outputs": [
    {
     "name": "stdout",
     "output_type": "stream",
     "text": [
      "Downloading shapefile southern-africa201910.zip\n",
      "Downloading shapefile southern-africa201207.zip\n",
      "Downloading shapefile southern-africa201007.zip\n",
      "Downloading shapefile southern-africa201812.zip\n",
      "Downloading shapefile southern-africa201507.zip\n",
      "Downloading shapefile southern-africa201310.zip\n",
      "Downloading shapefile southern-africa202010.zip\n",
      "Downloading shapefile southern-africa201806.zip\n",
      "Downloading shapefile southern-africa202002.zip\n",
      "Downloading shapefile southern-africa201010.zip\n",
      "Downloading shapefile southern-africa201606.zip\n",
      "Downloading shapefile southern-africa202007.zip\n",
      "Downloading shapefile southern-africa201410.zip\n",
      "Downloading shapefile southern-africa201810.zip\n",
      "Downloading shapefile southern-africa202003.zip\n",
      "Downloading shapefile southern-africa201702.zip\n",
      "Downloading shapefile southern-africa201404.zip\n",
      "Downloading shapefile southern-africa200907.zip\n",
      "Downloading shapefile southern-africa202006.zip\n",
      "Downloading shapefile southern-africa201401.zip\n",
      "Downloading shapefile southern-africa201210.zip\n",
      "Downloading shapefile southern-africa201802.zip\n",
      "Downloading shapefile southern-africa201510.zip\n",
      "Downloading shapefile southern-africa201004.zip\n",
      "Downloading shapefile southern-africa201610.zip\n",
      "Downloading shapefile southern-africa201501.zip\n",
      "Downloading shapefile southern-africa201710.zip\n",
      "Downloading shapefile southern-africa201504.zip\n",
      "Downloading shapefile southern-africa201307.zip\n",
      "Downloading shapefile southern-africa202009.zip\n",
      "Downloading shapefile southern-africa200910.zip\n",
      "Downloading shapefile southern-africa201301.zip\n",
      "Downloading shapefile southern-africa202005.zip\n",
      "Downloading shapefile southern-africa201407.zip\n",
      "Downloading shapefile southern-africa201304.zip\n",
      "Downloading shapefile southern-africa201101.zip\n",
      "Downloading shapefile southern-africa202008.zip\n",
      "Downloading shapefile southern-africa201706.zip\n",
      "Downloading shapefile southern-africa201602.zip\n",
      "Downloading shapefile southern-africa201107.zip\n",
      "Downloading shapefile southern-africa202004.zip\n",
      "Downloading shapefile southern-africa201902.zip\n",
      "Downloading shapefile west-africa202002.zip\n",
      "Downloading shapefile southern-africa201001.zip\n",
      "Downloading shapefile southern-africa201104.zip\n",
      "Downloading shapefile southern-africa201906.zip\n",
      "Downloading shapefile southern-africa201110.zip\n",
      "Downloading shapefile southern-africa202012.zip\n",
      "Downloading shapefile southern-africa201204.zip\n",
      "Downloading shapefile southern-africa201201.zip\n"
     ]
    }
   ],
   "source": [
    "for zipfile_url in url_download_list_zip:\n",
    "\n",
    "    filename = zipfile_url.rsplit('/', 1)[-1]\n",
    "\n",
    "    print(\"Downloading shapefile {0}\".format(filename))\n",
    "\n",
    "    urllib.request.urlretrieve('{0}'.format(zipfile_url), '{0}/South_Africa_Zips/{1}'.format(mypath, filename))\n",
    "    # Extract all files into a single folder:\n",
    "    archive = zipfile.ZipFile('{0}/South_Africa_Zips/{1}'.format(mypath, filename), 'r')\n",
    "    archive.extractall(path=\"{0}/South_Africa_Assets/\".format(mypath))\n"
   ]
  },
  {
   "cell_type": "code",
   "execution_count": 14,
   "metadata": {},
   "outputs": [
    {
     "name": "stdout",
     "output_type": "stream",
     "text": [
      "File already exists: Lakes.zip SKIPPING\n",
      "Creating zipped folder SA_200907_CS.zip at D:/Drought_IBF/zwe/data/Shapefile/South_Africa_Assets_Processed\n",
      "File already exists: SA_200907_ML1.zip SKIPPING\n",
      "File already exists: SA_200907_ML2.zip SKIPPING\n",
      "Creating zipped folder SA_200910_CS.zip at D:/Drought_IBF/zwe/data/Shapefile/South_Africa_Assets_Processed\n",
      "File already exists: SA_200910_ML1.zip SKIPPING\n",
      "File already exists: SA_200910_ML2.zip SKIPPING\n",
      "Creating zipped folder SA_201001_CS.zip at D:/Drought_IBF/zwe/data/Shapefile/South_Africa_Assets_Processed\n",
      "File already exists: SA_201001_ML1.zip SKIPPING\n",
      "File already exists: SA_201001_ML2.zip SKIPPING\n",
      "Creating zipped folder SA_201004_CS.zip at D:/Drought_IBF/zwe/data/Shapefile/South_Africa_Assets_Processed\n",
      "File already exists: SA_201004_ML1.zip SKIPPING\n",
      "File already exists: SA_201004_ML2.zip SKIPPING\n",
      "Creating zipped folder SA_201007_CS.zip at D:/Drought_IBF/zwe/data/Shapefile/South_Africa_Assets_Processed\n",
      "File already exists: SA_201007_ML1.zip SKIPPING\n",
      "File already exists: SA_201007_ML2.zip SKIPPING\n",
      "Creating zipped folder SA_201010_CS.zip at D:/Drought_IBF/zwe/data/Shapefile/South_Africa_Assets_Processed\n",
      "File already exists: SA_201010_ML1.zip SKIPPING\n",
      "File already exists: SA_201010_ML2.zip SKIPPING\n",
      "Creating zipped folder SA_201101_CS.zip at D:/Drought_IBF/zwe/data/Shapefile/South_Africa_Assets_Processed\n",
      "File already exists: SA_201101_ML1.zip SKIPPING\n",
      "File already exists: SA_201101_ML2.zip SKIPPING\n",
      "Creating zipped folder SA_201104_CS.zip at D:/Drought_IBF/zwe/data/Shapefile/South_Africa_Assets_Processed\n",
      "File already exists: SA_201104_ML1.zip SKIPPING\n",
      "File already exists: SA_201104_ML2.zip SKIPPING\n",
      "Creating zipped folder SA_201107_CS.zip at D:/Drought_IBF/zwe/data/Shapefile/South_Africa_Assets_Processed\n",
      "File already exists: SA_201107_ML1.zip SKIPPING\n",
      "File already exists: SA_201107_ML2.zip SKIPPING\n",
      "Creating zipped folder SA_201110_CS.zip at D:/Drought_IBF/zwe/data/Shapefile/South_Africa_Assets_Processed\n",
      "File already exists: SA_201110_ML1.zip SKIPPING\n",
      "File already exists: SA_201110_ML2.zip SKIPPING\n",
      "Creating zipped folder SA_201201_CS.zip at D:/Drought_IBF/zwe/data/Shapefile/South_Africa_Assets_Processed\n",
      "File already exists: SA_201201_ML1.zip SKIPPING\n",
      "File already exists: SA_201201_ML2.zip SKIPPING\n",
      "Creating zipped folder SA_201204_CS.zip at D:/Drought_IBF/zwe/data/Shapefile/South_Africa_Assets_Processed\n",
      "File already exists: SA_201204_ML1.zip SKIPPING\n",
      "File already exists: SA_201204_ML2.zip SKIPPING\n",
      "Creating zipped folder SA_201207_CS.zip at D:/Drought_IBF/zwe/data/Shapefile/South_Africa_Assets_Processed\n",
      "File already exists: SA_201207_ML1.zip SKIPPING\n",
      "File already exists: SA_201207_ML2.zip SKIPPING\n",
      "Creating zipped folder SA_201210_CS.zip at D:/Drought_IBF/zwe/data/Shapefile/South_Africa_Assets_Processed\n",
      "File already exists: SA_201210_ML1.zip SKIPPING\n",
      "File already exists: SA_201210_ML2.zip SKIPPING\n",
      "Creating zipped folder SA_201301_CS.zip at D:/Drought_IBF/zwe/data/Shapefile/South_Africa_Assets_Processed\n",
      "File already exists: SA_201301_ML1.zip SKIPPING\n",
      "File already exists: SA_201301_ML2.zip SKIPPING\n",
      "Creating zipped folder SA_201304_CS.zip at D:/Drought_IBF/zwe/data/Shapefile/South_Africa_Assets_Processed\n",
      "File already exists: SA_201304_ML1.zip SKIPPING\n",
      "File already exists: SA_201304_ML2.zip SKIPPING\n",
      "Creating zipped folder SA_201307_CS.zip at D:/Drought_IBF/zwe/data/Shapefile/South_Africa_Assets_Processed\n",
      "File already exists: SA_201307_ML1.zip SKIPPING\n",
      "File already exists: SA_201307_ML2.zip SKIPPING\n",
      "Creating zipped folder SA_201310_CS.zip at D:/Drought_IBF/zwe/data/Shapefile/South_Africa_Assets_Processed\n",
      "File already exists: SA_201310_ML1.zip SKIPPING\n",
      "File already exists: SA_201310_ML2.zip SKIPPING\n",
      "Creating zipped folder SA_201401_CS.zip at D:/Drought_IBF/zwe/data/Shapefile/South_Africa_Assets_Processed\n",
      "File already exists: SA_201401_ML1.zip SKIPPING\n",
      "File already exists: SA_201401_ML2.zip SKIPPING\n",
      "Creating zipped folder SA_201404_CS.zip at D:/Drought_IBF/zwe/data/Shapefile/South_Africa_Assets_Processed\n",
      "File already exists: SA_201404_ML1.zip SKIPPING\n",
      "File already exists: SA_201404_ML2.zip SKIPPING\n",
      "Creating zipped folder SA_201407_CS.zip at D:/Drought_IBF/zwe/data/Shapefile/South_Africa_Assets_Processed\n",
      "File already exists: SA_201407_ML1.zip SKIPPING\n",
      "File already exists: SA_201407_ML2.zip SKIPPING\n",
      "Creating zipped folder SA_201410_CS.zip at D:/Drought_IBF/zwe/data/Shapefile/South_Africa_Assets_Processed\n",
      "File already exists: SA_201410_ML1.zip SKIPPING\n",
      "File already exists: SA_201410_ML2.zip SKIPPING\n",
      "Creating zipped folder SA_201501_CS.zip at D:/Drought_IBF/zwe/data/Shapefile/South_Africa_Assets_Processed\n",
      "File already exists: SA_201501_ML1.zip SKIPPING\n",
      "File already exists: SA_201501_ML2.zip SKIPPING\n",
      "Creating zipped folder SA_201504_CS.zip at D:/Drought_IBF/zwe/data/Shapefile/South_Africa_Assets_Processed\n",
      "File already exists: SA_201504_ML1.zip SKIPPING\n",
      "File already exists: SA_201504_ML2.zip SKIPPING\n",
      "Creating zipped folder SA_201507_CS.zip at D:/Drought_IBF/zwe/data/Shapefile/South_Africa_Assets_Processed\n",
      "File already exists: SA_201507_ML1.zip SKIPPING\n",
      "File already exists: SA_201507_ML2.zip SKIPPING\n",
      "Creating zipped folder SA_201510_CS.zip at D:/Drought_IBF/zwe/data/Shapefile/South_Africa_Assets_Processed\n",
      "File already exists: SA_201510_ML1.zip SKIPPING\n",
      "File already exists: SA_201510_ML2.zip SKIPPING\n",
      "Creating zipped folder SA_201602_CS.zip at D:/Drought_IBF/zwe/data/Shapefile/South_Africa_Assets_Processed\n",
      "File already exists: SA_201602_ML1.zip SKIPPING\n",
      "File already exists: SA_201602_ML2.zip SKIPPING\n",
      "Creating zipped folder SA_201606_CS.zip at D:/Drought_IBF/zwe/data/Shapefile/South_Africa_Assets_Processed\n",
      "File already exists: SA_201606_ML1.zip SKIPPING\n",
      "File already exists: SA_201606_ML2.zip SKIPPING\n",
      "Creating zipped folder SA_201610_CS.zip at D:/Drought_IBF/zwe/data/Shapefile/South_Africa_Assets_Processed\n",
      "File already exists: SA_201610_ML1.zip SKIPPING\n",
      "File already exists: SA_201610_ML2.zip SKIPPING\n",
      "Creating zipped folder SA_201702_CS.zip at D:/Drought_IBF/zwe/data/Shapefile/South_Africa_Assets_Processed\n",
      "File already exists: SA_201702_ML1.zip SKIPPING\n",
      "File already exists: SA_201702_ML2.zip SKIPPING\n",
      "Creating zipped folder SA_201706_CS.zip at D:/Drought_IBF/zwe/data/Shapefile/South_Africa_Assets_Processed\n",
      "File already exists: SA_201706_ML1.zip SKIPPING\n",
      "File already exists: SA_201706_ML2.zip SKIPPING\n",
      "Creating zipped folder SA_201710_CS.zip at D:/Drought_IBF/zwe/data/Shapefile/South_Africa_Assets_Processed\n",
      "File already exists: SA_201710_ML1.zip SKIPPING\n",
      "File already exists: SA_201710_ML2.zip SKIPPING\n",
      "Creating zipped folder SA_201802_CS.zip at D:/Drought_IBF/zwe/data/Shapefile/South_Africa_Assets_Processed\n",
      "File already exists: SA_201802_ML1.zip SKIPPING\n",
      "File already exists: SA_201802_ML2.zip SKIPPING\n",
      "Creating zipped folder SA_201806_CS.zip at D:/Drought_IBF/zwe/data/Shapefile/South_Africa_Assets_Processed\n",
      "File already exists: SA_201806_ML1.zip SKIPPING\n",
      "File already exists: SA_201806_ML2.zip SKIPPING\n",
      "Creating zipped folder SA_201810_CS.zip at D:/Drought_IBF/zwe/data/Shapefile/South_Africa_Assets_Processed\n",
      "File already exists: SA_201810_ML1.zip SKIPPING\n",
      "File already exists: SA_201810_ML2.zip SKIPPING\n",
      "Creating zipped folder SA_201812_CS.zip at D:/Drought_IBF/zwe/data/Shapefile/South_Africa_Assets_Processed\n",
      "File already exists: SA_201812_ML1.zip SKIPPING\n",
      "File already exists: SA_201812_ML2.zip SKIPPING\n",
      "Creating zipped folder SA_201902_CS.zip at D:/Drought_IBF/zwe/data/Shapefile/South_Africa_Assets_Processed\n",
      "File already exists: SA_201902_ML1.zip SKIPPING\n",
      "File already exists: SA_201902_ML2.zip SKIPPING\n",
      "Creating zipped folder SA_201906_CS.zip at D:/Drought_IBF/zwe/data/Shapefile/South_Africa_Assets_Processed\n",
      "File already exists: SA_201906_ML1.zip SKIPPING\n",
      "File already exists: SA_201906_ML2.zip SKIPPING\n",
      "Creating zipped folder SA_201910_CS.zip at D:/Drought_IBF/zwe/data/Shapefile/South_Africa_Assets_Processed\n",
      "File already exists: SA_201910_ML1.zip SKIPPING\n",
      "File already exists: SA_201910_ML2.zip SKIPPING\n",
      "Creating zipped folder SA_202002_CS.zip at D:/Drought_IBF/zwe/data/Shapefile/South_Africa_Assets_Processed\n",
      "File already exists: SA_202002_ML1.zip SKIPPING\n",
      "File already exists: SA_202002_ML2.zip SKIPPING\n",
      "File already exists: SA_202003_ML1.zip SKIPPING\n",
      "File already exists: SA_202003_ML2.zip SKIPPING\n",
      "File already exists: SA_202004_ML1.zip SKIPPING\n",
      "File already exists: SA_202004_ML2.zip SKIPPING\n",
      "File already exists: SA_202005_ML1.zip SKIPPING\n",
      "File already exists: SA_202005_ML2.zip SKIPPING\n",
      "Creating zipped folder SA_202006_CS.zip at D:/Drought_IBF/zwe/data/Shapefile/South_Africa_Assets_Processed\n"
     ]
    },
    {
     "name": "stdout",
     "output_type": "stream",
     "text": [
      "File already exists: SA_202006_ML1.zip SKIPPING\n",
      "File already exists: SA_202006_ML2.zip SKIPPING\n",
      "File already exists: SA_202007_ML1.zip SKIPPING\n",
      "File already exists: SA_202007_ML2.zip SKIPPING\n",
      "File already exists: SA_202008_ML1.zip SKIPPING\n",
      "File already exists: SA_202008_ML2.zip SKIPPING\n",
      "File already exists: SA_202009_ML1.zip SKIPPING\n",
      "File already exists: SA_202009_ML2.zip SKIPPING\n",
      "Creating zipped folder SA_202010_CS.zip at D:/Drought_IBF/zwe/data/Shapefile/South_Africa_Assets_Processed\n",
      "File already exists: SA_202010_ML1.zip SKIPPING\n",
      "File already exists: SA_202010_ML2.zip SKIPPING\n",
      "Creating zipped folder SA_202012_ML1.zip at D:/Drought_IBF/zwe/data/Shapefile/South_Africa_Assets_Processed\n",
      "Creating zipped folder SA_202012_ML2.zip at D:/Drought_IBF/zwe/data/Shapefile/South_Africa_Assets_Processed\n",
      "Creating zipped folder WA_202002_CS.zip at D:/Drought_IBF/zwe/data/Shapefile/South_Africa_Assets_Processed\n",
      "File already exists: WA_202002_ML1.zip SKIPPING\n",
      "File already exists: WA_202002_ML2.zip SKIPPING\n"
     ]
    }
   ],
   "source": [
    "# Convert files to zips in the folder\n",
    "\n",
    "zipshape(\"D:/Drought_IBF/zwe/data/Shapefile/South_Africa_Assets\",\n",
    "         \"D:/Drought_IBF/zwe/data/Shapefile/South_Africa_Assets_Processed\")"
   ]
  },
  {
   "cell_type": "code",
   "execution_count": 15,
   "metadata": {},
   "outputs": [],
   "source": [
    "# order into three folders \n",
    "mypath2='D:/Drought_IBF/zwe/data/Shapefile'\n",
    "onlyfiles = [f for f in listdir(mypath2 + \"/South_Africa_Assets_Processed/\") if isfile(join(mypath2 + \"/South_Africa_Assets_Processed/\", f))]\n",
    "# do this only one time \n",
    "try:\n",
    "    shutil.rmtree(mypath2 + r\"/CS\") \n",
    "    shutil.rmtree(mypath2 + r\"/ML1\") \n",
    "    shutil.rmtree(mypath2 + r\"/ML2\") \n",
    "except:\n",
    "    print(\"directory doesn't excist yet\")\n",
    "os.mkdir(mypath2 + r\"/CS\")\n",
    "os.mkdir(mypath2 + r\"/ML1\")\n",
    "os.mkdir(mypath2 + r\"/ML2\")\n"
   ]
  },
  {
   "cell_type": "code",
   "execution_count": 16,
   "metadata": {},
   "outputs": [],
   "source": [
    "CS = [s for s in onlyfiles if \"CS\" in s]"
   ]
  },
  {
   "cell_type": "code",
   "execution_count": 17,
   "metadata": {},
   "outputs": [],
   "source": [
    "for file in CS:\n",
    "    shutil.move(mypath2 + \"/South_Africa_Assets_Processed/\" + file, mypath2 + \"/CS\")\n",
    "#Note the name of the files, using the correct country area\n",
    "#EA201702_CS linked to the eastern africa ipc outlooks\n",
    "#in this case we are interested in Southern Africa, so SA201702_CS\n",
    "os.rename(mypath2 + r\"/CS/SA_201702_CS.zip\", mypath2 + r\"/CS/SA_201702_CS.zip\")\n",
    "ML1 = [s for s in onlyfiles if \"ML1\" in s]\n",
    "\n",
    "for file in ML1:\n",
    "    shutil.move(mypath2 + \"/South_Africa_Assets_Processed/\" + file, mypath2 + \"/ML1\")\n",
    "    \n",
    "ML2 = [s for s in onlyfiles if \"ML2\" in s]\n",
    "for file in ML2:\n",
    "    shutil.move(mypath2 + \"/South_Africa_Assets_Processed/\" + file, mypath2 + \"/ML2\")\n"
   ]
  },
  {
   "cell_type": "markdown",
   "metadata": {},
   "source": [
    "## 2. RUN SCRIPT FROM HERE IF YOU HAVE THE DATA ALREADY"
   ]
  },
  {
   "cell_type": "code",
   "execution_count": 18,
   "metadata": {},
   "outputs": [],
   "source": [
    "mypath2='D:/Drought_IBF/zwe/data/Shapefile'\n",
    "\n",
    "CS = [f for f in listdir(mypath2 + \"/CS/\") if isfile(join(mypath2 + \"/CS/\", f))]\n",
    "ML1 = [f for f in listdir(mypath2 + \"/ML1/\") if isfile(join(mypath2 + \"/ML1/\", f))]\n",
    "ML2 = [f for f in listdir(mypath2 + \"/ML2/\") if isfile(join(mypath2 + \"/ML2/\", f))]"
   ]
  },
  {
   "cell_type": "code",
   "execution_count": 19,
   "metadata": {},
   "outputs": [
    {
     "name": "stdout",
     "output_type": "stream",
     "text": [
      "['SA_200907_CS.zip', 'SA_200910_CS.zip', 'SA_201001_CS.zip', 'SA_201004_CS.zip', 'SA_201007_CS.zip', 'SA_201010_CS.zip', 'SA_201101_CS.zip', 'SA_201104_CS.zip', 'SA_201107_CS.zip', 'SA_201110_CS.zip', 'SA_201201_CS.zip', 'SA_201204_CS.zip', 'SA_201207_CS.zip', 'SA_201210_CS.zip', 'SA_201301_CS.zip', 'SA_201304_CS.zip', 'SA_201307_CS.zip', 'SA_201310_CS.zip', 'SA_201401_CS.zip', 'SA_201404_CS.zip', 'SA_201407_CS.zip', 'SA_201410_CS.zip', 'SA_201501_CS.zip', 'SA_201504_CS.zip', 'SA_201507_CS.zip', 'SA_201510_CS.zip', 'SA_201602_CS.zip', 'SA_201606_CS.zip', 'SA_201610_CS.zip', 'SA_201702_CS.zip', 'SA_201706_CS.zip', 'SA_201710_CS.zip', 'SA_201802_CS.zip', 'SA_201806_CS.zip', 'SA_201810_CS.zip', 'SA_201812_CS.zip', 'SA_201902_CS.zip', 'SA_201906_CS.zip', 'SA_201910_CS.zip', 'SA_202002_CS.zip', 'SA_202006_CS.zip', 'SA_202010_CS.zip', 'WA_202002_CS.zip']\n"
     ]
    },
    {
     "data": {
      "text/plain": [
       "'D:/Drought_IBF/zwe/data/Shapefile'"
      ]
     },
     "execution_count": 19,
     "metadata": {},
     "output_type": "execute_result"
    }
   ],
   "source": [
    "path='D:/Drought_IBF/zwe/data'\n",
    "print(CS)\n",
    "mypath2"
   ]
  },
  {
   "cell_type": "markdown",
   "metadata": {},
   "source": [
    "### Import shapefiles "
   ]
  },
  {
   "cell_type": "code",
   "execution_count": 20,
   "metadata": {},
   "outputs": [],
   "source": [
    "############ ZIMBABWE ############\n",
    "\n",
    "zwe_lzh=gpd.read_file('D:/Drought_IBF/zwe/data/ZW_LHZ_2011/ZW_LHZ_2011.shp') #Livelihood zones\n",
    "district =gpd.read_file('D:/Drought_IBF/zwe/data/admin_2/pop_recalc.shp') #Population Data\n",
    "\n",
    "## ONEDRIVE FOLDERS ##\n",
    "##[PRJ] FbF - Zimbabwe - Danish Red Cross . 3.Data - Hazard exposure, vulnerability > Admin > pop_recal.zip \n",
    "##[PRJ] FbF - Zimbabwe - Danish Red Cross . 3.Data - Hazard exposure, vulnerability > zwe_livelihoodzones > ZW_LHZ_2011.zip"
   ]
  },
  {
   "cell_type": "code",
   "execution_count": 21,
   "metadata": {},
   "outputs": [],
   "source": [
    "df_list=list()\n",
    "for file in CS[20:-1]:\n",
    "    CS_ = gpd.read_file('zip://' +mypath2 + \"/CS/\" +file)\n",
    "    gdf_adm2_cs_merged = gpd.overlay(district, CS_,how='intersection') \n",
    "    gdf_adm2_cs_merged[\"area\"]=gdf_adm2_cs_merged['geometry'].area\n",
    "    df=gdf_adm2_cs_merged.query('CS < 6')\n",
    "    idx = df.groupby(['ADM2_EN'])['area'].transform(max)==df['area']\n",
    "    df=df[idx]\n",
    "    df=df[['ADM2_PCODE', 'CS', '_sum']]\n",
    "    x=file.split('_')[1] \n",
    "    df['Date']=dt.datetime(int(x[:4]),int(x[4:]),1).strftime(\"%Y-%m-%d\")\n",
    "    df['year']=int(x[:4])\n",
    "    df_list.append(df.query('CS != \"NaN\"')) #CS not equal tot NaN\n",
    "    \n",
    "df1 = pd.concat(df_list)\n",
    "\n",
    "df1.to_csv('D:/Drought_IBF/zwe/data/zwe_ipc.csv')"
   ]
  },
  {
   "cell_type": "code",
   "execution_count": 22,
   "metadata": {},
   "outputs": [
    {
     "data": {
      "text/html": [
       "<div>\n",
       "<style scoped>\n",
       "    .dataframe tbody tr th:only-of-type {\n",
       "        vertical-align: middle;\n",
       "    }\n",
       "\n",
       "    .dataframe tbody tr th {\n",
       "        vertical-align: top;\n",
       "    }\n",
       "\n",
       "    .dataframe thead th {\n",
       "        text-align: right;\n",
       "    }\n",
       "</style>\n",
       "<table border=\"1\" class=\"dataframe\">\n",
       "  <thead>\n",
       "    <tr style=\"text-align: right;\">\n",
       "      <th></th>\n",
       "      <th>ADM2_PCODE</th>\n",
       "      <th>CS</th>\n",
       "      <th>_sum</th>\n",
       "      <th>Date</th>\n",
       "      <th>year</th>\n",
       "    </tr>\n",
       "  </thead>\n",
       "  <tbody>\n",
       "    <tr>\n",
       "      <th>0</th>\n",
       "      <td>ZW1601</td>\n",
       "      <td>1.0</td>\n",
       "      <td>82497.809891</td>\n",
       "      <td>2014-07-01</td>\n",
       "      <td>2014</td>\n",
       "    </tr>\n",
       "    <tr>\n",
       "      <th>1</th>\n",
       "      <td>ZW1622</td>\n",
       "      <td>1.0</td>\n",
       "      <td>43277.149144</td>\n",
       "      <td>2014-07-01</td>\n",
       "      <td>2014</td>\n",
       "    </tr>\n",
       "    <tr>\n",
       "      <th>2</th>\n",
       "      <td>ZW1801</td>\n",
       "      <td>1.0</td>\n",
       "      <td>177287.110881</td>\n",
       "      <td>2014-07-01</td>\n",
       "      <td>2014</td>\n",
       "    </tr>\n",
       "    <tr>\n",
       "      <th>3</th>\n",
       "      <td>ZW1201</td>\n",
       "      <td>1.0</td>\n",
       "      <td>149011.109424</td>\n",
       "      <td>2014-07-01</td>\n",
       "      <td>2014</td>\n",
       "    </tr>\n",
       "    <tr>\n",
       "      <th>4</th>\n",
       "      <td>ZW1221</td>\n",
       "      <td>1.0</td>\n",
       "      <td>41842.934721</td>\n",
       "      <td>2014-07-01</td>\n",
       "      <td>2014</td>\n",
       "    </tr>\n",
       "    <tr>\n",
       "      <th>...</th>\n",
       "      <td>...</td>\n",
       "      <td>...</td>\n",
       "      <td>...</td>\n",
       "      <td>...</td>\n",
       "      <td>...</td>\n",
       "    </tr>\n",
       "    <tr>\n",
       "      <th>243</th>\n",
       "      <td>ZW1405</td>\n",
       "      <td>1.0</td>\n",
       "      <td>183576.171458</td>\n",
       "      <td>2020-10-01</td>\n",
       "      <td>2020</td>\n",
       "    </tr>\n",
       "    <tr>\n",
       "      <th>245</th>\n",
       "      <td>ZW1304</td>\n",
       "      <td>1.0</td>\n",
       "      <td>136118.797853</td>\n",
       "      <td>2020-10-01</td>\n",
       "      <td>2020</td>\n",
       "    </tr>\n",
       "    <tr>\n",
       "      <th>247</th>\n",
       "      <td>ZW1204</td>\n",
       "      <td>1.0</td>\n",
       "      <td>264139.767180</td>\n",
       "      <td>2020-10-01</td>\n",
       "      <td>2020</td>\n",
       "    </tr>\n",
       "    <tr>\n",
       "      <th>251</th>\n",
       "      <td>ZW1306</td>\n",
       "      <td>1.0</td>\n",
       "      <td>235660.798792</td>\n",
       "      <td>2020-10-01</td>\n",
       "      <td>2020</td>\n",
       "    </tr>\n",
       "    <tr>\n",
       "      <th>266</th>\n",
       "      <td>ZW1406</td>\n",
       "      <td>1.0</td>\n",
       "      <td>282764.041778</td>\n",
       "      <td>2020-10-01</td>\n",
       "      <td>2020</td>\n",
       "    </tr>\n",
       "  </tbody>\n",
       "</table>\n",
       "<p>1911 rows × 5 columns</p>\n",
       "</div>"
      ],
      "text/plain": [
       "    ADM2_PCODE   CS           _sum        Date  year\n",
       "0       ZW1601  1.0   82497.809891  2014-07-01  2014\n",
       "1       ZW1622  1.0   43277.149144  2014-07-01  2014\n",
       "2       ZW1801  1.0  177287.110881  2014-07-01  2014\n",
       "3       ZW1201  1.0  149011.109424  2014-07-01  2014\n",
       "4       ZW1221  1.0   41842.934721  2014-07-01  2014\n",
       "..         ...  ...            ...         ...   ...\n",
       "243     ZW1405  1.0  183576.171458  2020-10-01  2020\n",
       "245     ZW1304  1.0  136118.797853  2020-10-01  2020\n",
       "247     ZW1204  1.0  264139.767180  2020-10-01  2020\n",
       "251     ZW1306  1.0  235660.798792  2020-10-01  2020\n",
       "266     ZW1406  1.0  282764.041778  2020-10-01  2020\n",
       "\n",
       "[1911 rows x 5 columns]"
      ]
     },
     "execution_count": 22,
     "metadata": {},
     "output_type": "execute_result"
    }
   ],
   "source": [
    "df1"
   ]
  },
  {
   "cell_type": "markdown",
   "metadata": {},
   "source": [
    "### IPC 3 Class Exposed Population "
   ]
  },
  {
   "cell_type": "code",
   "execution_count": 23,
   "metadata": {},
   "outputs": [
    {
     "data": {
      "text/plain": [
       "14350726.901129559"
      ]
     },
     "execution_count": 23,
     "metadata": {},
     "output_type": "execute_result"
    }
   ],
   "source": [
    "#Calculate the total population, in order to set a threshold value based on percentage exposed. \n",
    "adm2_pop =df1.groupby(['ADM2_PCODE']).max().reset_index()\n",
    "total_pop = adm2_pop['_sum'].sum()\n",
    "total_pop"
   ]
  },
  {
   "cell_type": "code",
   "execution_count": 95,
   "metadata": {},
   "outputs": [
    {
     "data": {
      "image/png": "[encoded data removed]",
      "text/plain": [
       "<Figure size 864x720 with 1 Axes>"
      ]
     },
     "metadata": {
      "needs_background": "light"
     },
     "output_type": "display_data"
    }
   ],
   "source": [
    "# Merge conflict events with regions they occurred in\n",
    "fig, ax = plt.subplots(figsize = (12,10)) \n",
    "\n",
    "df1 = df1.astype({\"_sum\": int})\n",
    "df1['pop']= df1['_sum'] \n",
    "df2=df1.groupby(['CS','Date']).sum().reset_index()\n",
    "oct_mask =pd.to_datetime(df2['Date']).map(lambda x:x.month) == 10\n",
    "df3 = df2[oct_mask]\n",
    "df3.query('CS>2').plot.bar(x='Date',y= 'pop',ax=ax,legend=False)\n",
    " \n",
    "\n",
    "plt.title('Population exposed to IPC-phase 3 or above',fontsize='16')\n",
    "ax.set_yticklabels(['0','2m', '4m','6m','8m','10m' ,'12m', '14m'],fontsize='16')\n",
    "ax.set_ylabel('Exposed population (Millions) ',fontsize='16')\n",
    "plt.axhline(y=(0.2*total_pop), color='r', linestyle='dashed', label='20% of Total population')\n",
    "plt.axhline(y=(0.1*total_pop), color='b', linestyle='dashed', label='10% of Total population') \n",
    "plt.legend()\n",
    "\n",
    "plt.savefig('D:/Drought_IBF/zwe/outcome/zwe_ipc_class3_.png')"
   ]
  },
  {
   "cell_type": "markdown",
   "metadata": {},
   "source": [
    "### FEWSNET IPC Maps  "
   ]
  },
  {
   "cell_type": "code",
   "execution_count": 96,
   "metadata": {},
   "outputs": [],
   "source": [
    "# Several plots will be generated with the function plot_geo:\n",
    "def plot_geo_acc(df1, district,year):\n",
    "    fig, ax = plt.subplots(figsize = (20,10)) \n",
    "    ax.axis(\"off\")\n",
    "    df1=df1.query('CS > 1')\n",
    "    df1 = df1.astype({\"CS\": int})\n",
    "    colors2=['#f0f9e8','#ffffb2','#fe9929','#e31a1c','#d94701']\n",
    "    cmap1 = ListedColormap(colors2)\n",
    "    #df1.plot(column ='CS',ax=ax, legend = False, cmap =cmap1,linewidth=0.1, edgecolor='0.8',vmin=1, vmax=5)\n",
    "    district.geometry.boundary.plot(color=None,edgecolor='black',linewidth = .1,ax=ax)\n",
    "    plt.title('FEWS NET IPC-%s '%year)"
   ]
  },
  {
   "cell_type": "code",
   "execution_count": 97,
   "metadata": {},
   "outputs": [
    {
     "ename": "AttributeError",
     "evalue": "'Line2D' object has no property 'column'",
     "output_type": "error",
     "traceback": [
      "\u001b[1;31m---------------------------------------------------------------------------\u001b[0m",
      "\u001b[1;31mAttributeError\u001b[0m                            Traceback (most recent call last)",
      "\u001b[1;32m<ipython-input-97-70369718b65d>\u001b[0m in \u001b[0;36m<module>\u001b[1;34m\u001b[0m\n\u001b[0;32m     13\u001b[0m     \u001b[0mcolors2\u001b[0m\u001b[1;33m=\u001b[0m\u001b[1;33m[\u001b[0m\u001b[1;34m'#f0f9e8'\u001b[0m\u001b[1;33m,\u001b[0m\u001b[1;34m'#bae4bc'\u001b[0m\u001b[1;33m,\u001b[0m\u001b[1;34m'#ffffb2'\u001b[0m\u001b[1;33m,\u001b[0m\u001b[1;34m'#fe9929'\u001b[0m\u001b[1;33m,\u001b[0m\u001b[1;34m'#e31a1c'\u001b[0m\u001b[1;33m,\u001b[0m\u001b[1;34m'#59140d'\u001b[0m\u001b[1;33m]\u001b[0m\u001b[1;33m\u001b[0m\u001b[1;33m\u001b[0m\u001b[0m\n\u001b[0;32m     14\u001b[0m     \u001b[0mcmap1\u001b[0m \u001b[1;33m=\u001b[0m \u001b[0mListedColormap\u001b[0m\u001b[1;33m(\u001b[0m\u001b[0mcolors2\u001b[0m\u001b[1;33m)\u001b[0m\u001b[1;33m\u001b[0m\u001b[1;33m\u001b[0m\u001b[0m\n\u001b[1;32m---> 15\u001b[1;33m     \u001b[0ms1\u001b[0m\u001b[1;33m=\u001b[0m\u001b[0mplot_df\u001b[0m\u001b[1;33m.\u001b[0m\u001b[0mplot\u001b[0m\u001b[1;33m(\u001b[0m\u001b[0mcolumn\u001b[0m \u001b[1;33m=\u001b[0m \u001b[1;34m'CS'\u001b[0m\u001b[1;33m,\u001b[0m\u001b[0max\u001b[0m\u001b[1;33m=\u001b[0m\u001b[0max\u001b[0m\u001b[1;33m,\u001b[0m \u001b[0mlegend\u001b[0m \u001b[1;33m=\u001b[0m \u001b[1;32mFalse\u001b[0m\u001b[1;33m,\u001b[0m \u001b[0mcmap\u001b[0m \u001b[1;33m=\u001b[0m\u001b[0mcmap1\u001b[0m\u001b[1;33m,\u001b[0m\u001b[0mlinewidth\u001b[0m\u001b[1;33m=\u001b[0m\u001b[1;36m0.02\u001b[0m\u001b[1;33m,\u001b[0m \u001b[0medgecolor\u001b[0m\u001b[1;33m=\u001b[0m\u001b[1;34m'0.4'\u001b[0m\u001b[1;33m,\u001b[0m\u001b[0mvmin\u001b[0m\u001b[1;33m=\u001b[0m\u001b[1;33m-\u001b[0m\u001b[1;36m0.5\u001b[0m\u001b[1;33m,\u001b[0m \u001b[0mvmax\u001b[0m\u001b[1;33m=\u001b[0m\u001b[1;36m6\u001b[0m\u001b[1;33m)\u001b[0m\u001b[1;33m\u001b[0m\u001b[1;33m\u001b[0m\u001b[0m\n\u001b[0m\u001b[0;32m     16\u001b[0m     \u001b[0max\u001b[0m\u001b[1;33m.\u001b[0m\u001b[0maxis\u001b[0m\u001b[1;33m(\u001b[0m\u001b[1;34m'off'\u001b[0m\u001b[1;33m)\u001b[0m\u001b[1;33m\u001b[0m\u001b[1;33m\u001b[0m\u001b[0m\n\u001b[0;32m     17\u001b[0m     \u001b[1;31m#plt.clim(1,5)\u001b[0m\u001b[1;33m\u001b[0m\u001b[1;33m\u001b[0m\u001b[1;33m\u001b[0m\u001b[0m\n",
      "\u001b[1;32m~\\AppData\\Local\\Continuum\\anaconda3\\lib\\site-packages\\pandas\\plotting\\_core.py\u001b[0m in \u001b[0;36m__call__\u001b[1;34m(self, *args, **kwargs)\u001b[0m\n\u001b[0;32m    947\u001b[0m                     \u001b[0mdata\u001b[0m\u001b[1;33m.\u001b[0m\u001b[0mcolumns\u001b[0m \u001b[1;33m=\u001b[0m \u001b[0mlabel_name\u001b[0m\u001b[1;33m\u001b[0m\u001b[1;33m\u001b[0m\u001b[0m\n\u001b[0;32m    948\u001b[0m \u001b[1;33m\u001b[0m\u001b[0m\n\u001b[1;32m--> 949\u001b[1;33m         \u001b[1;32mreturn\u001b[0m \u001b[0mplot_backend\u001b[0m\u001b[1;33m.\u001b[0m\u001b[0mplot\u001b[0m\u001b[1;33m(\u001b[0m\u001b[0mdata\u001b[0m\u001b[1;33m,\u001b[0m \u001b[0mkind\u001b[0m\u001b[1;33m=\u001b[0m\u001b[0mkind\u001b[0m\u001b[1;33m,\u001b[0m \u001b[1;33m**\u001b[0m\u001b[0mkwargs\u001b[0m\u001b[1;33m)\u001b[0m\u001b[1;33m\u001b[0m\u001b[1;33m\u001b[0m\u001b[0m\n\u001b[0m\u001b[0;32m    950\u001b[0m \u001b[1;33m\u001b[0m\u001b[0m\n\u001b[0;32m    951\u001b[0m     \u001b[0m__call__\u001b[0m\u001b[1;33m.\u001b[0m\u001b[0m__doc__\u001b[0m \u001b[1;33m=\u001b[0m \u001b[0m__doc__\u001b[0m\u001b[1;33m\u001b[0m\u001b[1;33m\u001b[0m\u001b[0m\n",
      "\u001b[1;32m~\\AppData\\Local\\Continuum\\anaconda3\\lib\\site-packages\\pandas\\plotting\\_matplotlib\\__init__.py\u001b[0m in \u001b[0;36mplot\u001b[1;34m(data, kind, **kwargs)\u001b[0m\n\u001b[0;32m     59\u001b[0m             \u001b[0mkwargs\u001b[0m\u001b[1;33m[\u001b[0m\u001b[1;34m\"ax\"\u001b[0m\u001b[1;33m]\u001b[0m \u001b[1;33m=\u001b[0m \u001b[0mgetattr\u001b[0m\u001b[1;33m(\u001b[0m\u001b[0max\u001b[0m\u001b[1;33m,\u001b[0m \u001b[1;34m\"left_ax\"\u001b[0m\u001b[1;33m,\u001b[0m \u001b[0max\u001b[0m\u001b[1;33m)\u001b[0m\u001b[1;33m\u001b[0m\u001b[1;33m\u001b[0m\u001b[0m\n\u001b[0;32m     60\u001b[0m     \u001b[0mplot_obj\u001b[0m \u001b[1;33m=\u001b[0m \u001b[0mPLOT_CLASSES\u001b[0m\u001b[1;33m[\u001b[0m\u001b[0mkind\u001b[0m\u001b[1;33m]\u001b[0m\u001b[1;33m(\u001b[0m\u001b[0mdata\u001b[0m\u001b[1;33m,\u001b[0m \u001b[1;33m**\u001b[0m\u001b[0mkwargs\u001b[0m\u001b[1;33m)\u001b[0m\u001b[1;33m\u001b[0m\u001b[1;33m\u001b[0m\u001b[0m\n\u001b[1;32m---> 61\u001b[1;33m     \u001b[0mplot_obj\u001b[0m\u001b[1;33m.\u001b[0m\u001b[0mgenerate\u001b[0m\u001b[1;33m(\u001b[0m\u001b[1;33m)\u001b[0m\u001b[1;33m\u001b[0m\u001b[1;33m\u001b[0m\u001b[0m\n\u001b[0m\u001b[0;32m     62\u001b[0m     \u001b[0mplot_obj\u001b[0m\u001b[1;33m.\u001b[0m\u001b[0mdraw\u001b[0m\u001b[1;33m(\u001b[0m\u001b[1;33m)\u001b[0m\u001b[1;33m\u001b[0m\u001b[1;33m\u001b[0m\u001b[0m\n\u001b[0;32m     63\u001b[0m     \u001b[1;32mreturn\u001b[0m \u001b[0mplot_obj\u001b[0m\u001b[1;33m.\u001b[0m\u001b[0mresult\u001b[0m\u001b[1;33m\u001b[0m\u001b[1;33m\u001b[0m\u001b[0m\n",
      "\u001b[1;32m~\\AppData\\Local\\Continuum\\anaconda3\\lib\\site-packages\\pandas\\plotting\\_matplotlib\\core.py\u001b[0m in \u001b[0;36mgenerate\u001b[1;34m(self)\u001b[0m\n\u001b[0;32m    269\u001b[0m         \u001b[0mself\u001b[0m\u001b[1;33m.\u001b[0m\u001b[0m_compute_plot_data\u001b[0m\u001b[1;33m(\u001b[0m\u001b[1;33m)\u001b[0m\u001b[1;33m\u001b[0m\u001b[1;33m\u001b[0m\u001b[0m\n\u001b[0;32m    270\u001b[0m         \u001b[0mself\u001b[0m\u001b[1;33m.\u001b[0m\u001b[0m_setup_subplots\u001b[0m\u001b[1;33m(\u001b[0m\u001b[1;33m)\u001b[0m\u001b[1;33m\u001b[0m\u001b[1;33m\u001b[0m\u001b[0m\n\u001b[1;32m--> 271\u001b[1;33m         \u001b[0mself\u001b[0m\u001b[1;33m.\u001b[0m\u001b[0m_make_plot\u001b[0m\u001b[1;33m(\u001b[0m\u001b[1;33m)\u001b[0m\u001b[1;33m\u001b[0m\u001b[1;33m\u001b[0m\u001b[0m\n\u001b[0m\u001b[0;32m    272\u001b[0m         \u001b[0mself\u001b[0m\u001b[1;33m.\u001b[0m\u001b[0m_add_table\u001b[0m\u001b[1;33m(\u001b[0m\u001b[1;33m)\u001b[0m\u001b[1;33m\u001b[0m\u001b[1;33m\u001b[0m\u001b[0m\n\u001b[0;32m    273\u001b[0m         \u001b[0mself\u001b[0m\u001b[1;33m.\u001b[0m\u001b[0m_make_legend\u001b[0m\u001b[1;33m(\u001b[0m\u001b[1;33m)\u001b[0m\u001b[1;33m\u001b[0m\u001b[1;33m\u001b[0m\u001b[0m\n",
      "\u001b[1;32m~\\AppData\\Local\\Continuum\\anaconda3\\lib\\site-packages\\pandas\\plotting\\_matplotlib\\core.py\u001b[0m in \u001b[0;36m_make_plot\u001b[1;34m(self)\u001b[0m\n\u001b[0;32m   1124\u001b[0m                 \u001b[0mstacking_id\u001b[0m\u001b[1;33m=\u001b[0m\u001b[0mstacking_id\u001b[0m\u001b[1;33m,\u001b[0m\u001b[1;33m\u001b[0m\u001b[1;33m\u001b[0m\u001b[0m\n\u001b[0;32m   1125\u001b[0m                 \u001b[0mis_errorbar\u001b[0m\u001b[1;33m=\u001b[0m\u001b[0mis_errorbar\u001b[0m\u001b[1;33m,\u001b[0m\u001b[1;33m\u001b[0m\u001b[1;33m\u001b[0m\u001b[0m\n\u001b[1;32m-> 1126\u001b[1;33m                 \u001b[1;33m**\u001b[0m\u001b[0mkwds\u001b[0m\u001b[1;33m,\u001b[0m\u001b[1;33m\u001b[0m\u001b[1;33m\u001b[0m\u001b[0m\n\u001b[0m\u001b[0;32m   1127\u001b[0m             )\n\u001b[0;32m   1128\u001b[0m             \u001b[0mself\u001b[0m\u001b[1;33m.\u001b[0m\u001b[0m_add_legend_handle\u001b[0m\u001b[1;33m(\u001b[0m\u001b[0mnewlines\u001b[0m\u001b[1;33m[\u001b[0m\u001b[1;36m0\u001b[0m\u001b[1;33m]\u001b[0m\u001b[1;33m,\u001b[0m \u001b[0mlabel\u001b[0m\u001b[1;33m,\u001b[0m \u001b[0mindex\u001b[0m\u001b[1;33m=\u001b[0m\u001b[0mi\u001b[0m\u001b[1;33m)\u001b[0m\u001b[1;33m\u001b[0m\u001b[1;33m\u001b[0m\u001b[0m\n",
      "\u001b[1;32m~\\AppData\\Local\\Continuum\\anaconda3\\lib\\site-packages\\pandas\\plotting\\_matplotlib\\core.py\u001b[0m in \u001b[0;36m_plot\u001b[1;34m(cls, ax, x, y, style, column_num, stacking_id, **kwds)\u001b[0m\n\u001b[0;32m   1143\u001b[0m             \u001b[0mcls\u001b[0m\u001b[1;33m.\u001b[0m\u001b[0m_initialize_stacker\u001b[0m\u001b[1;33m(\u001b[0m\u001b[0max\u001b[0m\u001b[1;33m,\u001b[0m \u001b[0mstacking_id\u001b[0m\u001b[1;33m,\u001b[0m \u001b[0mlen\u001b[0m\u001b[1;33m(\u001b[0m\u001b[0my\u001b[0m\u001b[1;33m)\u001b[0m\u001b[1;33m)\u001b[0m\u001b[1;33m\u001b[0m\u001b[1;33m\u001b[0m\u001b[0m\n\u001b[0;32m   1144\u001b[0m         \u001b[0my_values\u001b[0m \u001b[1;33m=\u001b[0m \u001b[0mcls\u001b[0m\u001b[1;33m.\u001b[0m\u001b[0m_get_stacked_values\u001b[0m\u001b[1;33m(\u001b[0m\u001b[0max\u001b[0m\u001b[1;33m,\u001b[0m \u001b[0mstacking_id\u001b[0m\u001b[1;33m,\u001b[0m \u001b[0my\u001b[0m\u001b[1;33m,\u001b[0m \u001b[0mkwds\u001b[0m\u001b[1;33m[\u001b[0m\u001b[1;34m\"label\"\u001b[0m\u001b[1;33m]\u001b[0m\u001b[1;33m)\u001b[0m\u001b[1;33m\u001b[0m\u001b[1;33m\u001b[0m\u001b[0m\n\u001b[1;32m-> 1145\u001b[1;33m         \u001b[0mlines\u001b[0m \u001b[1;33m=\u001b[0m \u001b[0mMPLPlot\u001b[0m\u001b[1;33m.\u001b[0m\u001b[0m_plot\u001b[0m\u001b[1;33m(\u001b[0m\u001b[0max\u001b[0m\u001b[1;33m,\u001b[0m \u001b[0mx\u001b[0m\u001b[1;33m,\u001b[0m \u001b[0my_values\u001b[0m\u001b[1;33m,\u001b[0m \u001b[0mstyle\u001b[0m\u001b[1;33m=\u001b[0m\u001b[0mstyle\u001b[0m\u001b[1;33m,\u001b[0m \u001b[1;33m**\u001b[0m\u001b[0mkwds\u001b[0m\u001b[1;33m)\u001b[0m\u001b[1;33m\u001b[0m\u001b[1;33m\u001b[0m\u001b[0m\n\u001b[0m\u001b[0;32m   1146\u001b[0m         \u001b[0mcls\u001b[0m\u001b[1;33m.\u001b[0m\u001b[0m_update_stacker\u001b[0m\u001b[1;33m(\u001b[0m\u001b[0max\u001b[0m\u001b[1;33m,\u001b[0m \u001b[0mstacking_id\u001b[0m\u001b[1;33m,\u001b[0m \u001b[0my\u001b[0m\u001b[1;33m)\u001b[0m\u001b[1;33m\u001b[0m\u001b[1;33m\u001b[0m\u001b[0m\n\u001b[0;32m   1147\u001b[0m         \u001b[1;32mreturn\u001b[0m \u001b[0mlines\u001b[0m\u001b[1;33m\u001b[0m\u001b[1;33m\u001b[0m\u001b[0m\n",
      "\u001b[1;32m~\\AppData\\Local\\Continuum\\anaconda3\\lib\\site-packages\\pandas\\plotting\\_matplotlib\\converter.py\u001b[0m in \u001b[0;36mwrapper\u001b[1;34m(*args, **kwargs)\u001b[0m\n\u001b[0;32m     63\u001b[0m     \u001b[1;32mdef\u001b[0m \u001b[0mwrapper\u001b[0m\u001b[1;33m(\u001b[0m\u001b[1;33m*\u001b[0m\u001b[0margs\u001b[0m\u001b[1;33m,\u001b[0m \u001b[1;33m**\u001b[0m\u001b[0mkwargs\u001b[0m\u001b[1;33m)\u001b[0m\u001b[1;33m:\u001b[0m\u001b[1;33m\u001b[0m\u001b[1;33m\u001b[0m\u001b[0m\n\u001b[0;32m     64\u001b[0m         \u001b[1;32mwith\u001b[0m \u001b[0mpandas_converters\u001b[0m\u001b[1;33m(\u001b[0m\u001b[1;33m)\u001b[0m\u001b[1;33m:\u001b[0m\u001b[1;33m\u001b[0m\u001b[1;33m\u001b[0m\u001b[0m\n\u001b[1;32m---> 65\u001b[1;33m             \u001b[1;32mreturn\u001b[0m \u001b[0mfunc\u001b[0m\u001b[1;33m(\u001b[0m\u001b[1;33m*\u001b[0m\u001b[0margs\u001b[0m\u001b[1;33m,\u001b[0m \u001b[1;33m**\u001b[0m\u001b[0mkwargs\u001b[0m\u001b[1;33m)\u001b[0m\u001b[1;33m\u001b[0m\u001b[1;33m\u001b[0m\u001b[0m\n\u001b[0m\u001b[0;32m     66\u001b[0m \u001b[1;33m\u001b[0m\u001b[0m\n\u001b[0;32m     67\u001b[0m     \u001b[1;32mreturn\u001b[0m \u001b[0mwrapper\u001b[0m\u001b[1;33m\u001b[0m\u001b[1;33m\u001b[0m\u001b[0m\n",
      "\u001b[1;32m~\\AppData\\Local\\Continuum\\anaconda3\\lib\\site-packages\\pandas\\plotting\\_matplotlib\\core.py\u001b[0m in \u001b[0;36m_plot\u001b[1;34m(cls, ax, x, y, style, is_errorbar, **kwds)\u001b[0m\n\u001b[0;32m    666\u001b[0m             \u001b[1;32melse\u001b[0m\u001b[1;33m:\u001b[0m\u001b[1;33m\u001b[0m\u001b[1;33m\u001b[0m\u001b[0m\n\u001b[0;32m    667\u001b[0m                 \u001b[0margs\u001b[0m \u001b[1;33m=\u001b[0m \u001b[1;33m(\u001b[0m\u001b[0mx\u001b[0m\u001b[1;33m,\u001b[0m \u001b[0my\u001b[0m\u001b[1;33m)\u001b[0m\u001b[1;33m\u001b[0m\u001b[1;33m\u001b[0m\u001b[0m\n\u001b[1;32m--> 668\u001b[1;33m             \u001b[1;32mreturn\u001b[0m \u001b[0max\u001b[0m\u001b[1;33m.\u001b[0m\u001b[0mplot\u001b[0m\u001b[1;33m(\u001b[0m\u001b[1;33m*\u001b[0m\u001b[0margs\u001b[0m\u001b[1;33m,\u001b[0m \u001b[1;33m**\u001b[0m\u001b[0mkwds\u001b[0m\u001b[1;33m)\u001b[0m\u001b[1;33m\u001b[0m\u001b[1;33m\u001b[0m\u001b[0m\n\u001b[0m\u001b[0;32m    669\u001b[0m \u001b[1;33m\u001b[0m\u001b[0m\n\u001b[0;32m    670\u001b[0m     \u001b[1;32mdef\u001b[0m \u001b[0m_get_index_name\u001b[0m\u001b[1;33m(\u001b[0m\u001b[0mself\u001b[0m\u001b[1;33m)\u001b[0m\u001b[1;33m:\u001b[0m\u001b[1;33m\u001b[0m\u001b[1;33m\u001b[0m\u001b[0m\n",
      "\u001b[1;32m~\\AppData\\Local\\Continuum\\anaconda3\\lib\\site-packages\\matplotlib\\axes\\_axes.py\u001b[0m in \u001b[0;36mplot\u001b[1;34m(self, scalex, scaley, data, *args, **kwargs)\u001b[0m\n\u001b[0;32m   1645\u001b[0m         \"\"\"\n\u001b[0;32m   1646\u001b[0m         \u001b[0mkwargs\u001b[0m \u001b[1;33m=\u001b[0m \u001b[0mcbook\u001b[0m\u001b[1;33m.\u001b[0m\u001b[0mnormalize_kwargs\u001b[0m\u001b[1;33m(\u001b[0m\u001b[0mkwargs\u001b[0m\u001b[1;33m,\u001b[0m \u001b[0mmlines\u001b[0m\u001b[1;33m.\u001b[0m\u001b[0mLine2D\u001b[0m\u001b[1;33m)\u001b[0m\u001b[1;33m\u001b[0m\u001b[1;33m\u001b[0m\u001b[0m\n\u001b[1;32m-> 1647\u001b[1;33m         \u001b[0mlines\u001b[0m \u001b[1;33m=\u001b[0m \u001b[1;33m[\u001b[0m\u001b[1;33m*\u001b[0m\u001b[0mself\u001b[0m\u001b[1;33m.\u001b[0m\u001b[0m_get_lines\u001b[0m\u001b[1;33m(\u001b[0m\u001b[1;33m*\u001b[0m\u001b[0margs\u001b[0m\u001b[1;33m,\u001b[0m \u001b[0mdata\u001b[0m\u001b[1;33m=\u001b[0m\u001b[0mdata\u001b[0m\u001b[1;33m,\u001b[0m \u001b[1;33m**\u001b[0m\u001b[0mkwargs\u001b[0m\u001b[1;33m)\u001b[0m\u001b[1;33m]\u001b[0m\u001b[1;33m\u001b[0m\u001b[1;33m\u001b[0m\u001b[0m\n\u001b[0m\u001b[0;32m   1648\u001b[0m         \u001b[1;32mfor\u001b[0m \u001b[0mline\u001b[0m \u001b[1;32min\u001b[0m \u001b[0mlines\u001b[0m\u001b[1;33m:\u001b[0m\u001b[1;33m\u001b[0m\u001b[1;33m\u001b[0m\u001b[0m\n\u001b[0;32m   1649\u001b[0m             \u001b[0mself\u001b[0m\u001b[1;33m.\u001b[0m\u001b[0madd_line\u001b[0m\u001b[1;33m(\u001b[0m\u001b[0mline\u001b[0m\u001b[1;33m)\u001b[0m\u001b[1;33m\u001b[0m\u001b[1;33m\u001b[0m\u001b[0m\n",
      "\u001b[1;32m~\\AppData\\Local\\Continuum\\anaconda3\\lib\\site-packages\\matplotlib\\axes\\_base.py\u001b[0m in \u001b[0;36m__call__\u001b[1;34m(self, *args, **kwargs)\u001b[0m\n\u001b[0;32m    214\u001b[0m                 \u001b[0mthis\u001b[0m \u001b[1;33m+=\u001b[0m \u001b[0margs\u001b[0m\u001b[1;33m[\u001b[0m\u001b[1;36m0\u001b[0m\u001b[1;33m]\u001b[0m\u001b[1;33m,\u001b[0m\u001b[1;33m\u001b[0m\u001b[1;33m\u001b[0m\u001b[0m\n\u001b[0;32m    215\u001b[0m                 \u001b[0margs\u001b[0m \u001b[1;33m=\u001b[0m \u001b[0margs\u001b[0m\u001b[1;33m[\u001b[0m\u001b[1;36m1\u001b[0m\u001b[1;33m:\u001b[0m\u001b[1;33m]\u001b[0m\u001b[1;33m\u001b[0m\u001b[1;33m\u001b[0m\u001b[0m\n\u001b[1;32m--> 216\u001b[1;33m             \u001b[1;32myield\u001b[0m \u001b[1;32mfrom\u001b[0m \u001b[0mself\u001b[0m\u001b[1;33m.\u001b[0m\u001b[0m_plot_args\u001b[0m\u001b[1;33m(\u001b[0m\u001b[0mthis\u001b[0m\u001b[1;33m,\u001b[0m \u001b[0mkwargs\u001b[0m\u001b[1;33m)\u001b[0m\u001b[1;33m\u001b[0m\u001b[1;33m\u001b[0m\u001b[0m\n\u001b[0m\u001b[0;32m    217\u001b[0m \u001b[1;33m\u001b[0m\u001b[0m\n\u001b[0;32m    218\u001b[0m     \u001b[1;32mdef\u001b[0m \u001b[0mget_next_color\u001b[0m\u001b[1;33m(\u001b[0m\u001b[0mself\u001b[0m\u001b[1;33m)\u001b[0m\u001b[1;33m:\u001b[0m\u001b[1;33m\u001b[0m\u001b[1;33m\u001b[0m\u001b[0m\n",
      "\u001b[1;32m~\\AppData\\Local\\Continuum\\anaconda3\\lib\\site-packages\\matplotlib\\axes\\_base.py\u001b[0m in \u001b[0;36m_plot_args\u001b[1;34m(self, tup, kwargs)\u001b[0m\n\u001b[0;32m    362\u001b[0m                 \"non-matching shapes is deprecated.\")\n\u001b[0;32m    363\u001b[0m         return [func(x[:, j % ncx], y[:, j % ncy], kw, kwargs)\n\u001b[1;32m--> 364\u001b[1;33m                 for j in range(max(ncx, ncy))]\n\u001b[0m\u001b[0;32m    365\u001b[0m \u001b[1;33m\u001b[0m\u001b[0m\n\u001b[0;32m    366\u001b[0m \u001b[1;33m\u001b[0m\u001b[0m\n",
      "\u001b[1;32m~\\AppData\\Local\\Continuum\\anaconda3\\lib\\site-packages\\matplotlib\\axes\\_base.py\u001b[0m in \u001b[0;36m<listcomp>\u001b[1;34m(.0)\u001b[0m\n\u001b[0;32m    362\u001b[0m                 \"non-matching shapes is deprecated.\")\n\u001b[0;32m    363\u001b[0m         return [func(x[:, j % ncx], y[:, j % ncy], kw, kwargs)\n\u001b[1;32m--> 364\u001b[1;33m                 for j in range(max(ncx, ncy))]\n\u001b[0m\u001b[0;32m    365\u001b[0m \u001b[1;33m\u001b[0m\u001b[0m\n\u001b[0;32m    366\u001b[0m \u001b[1;33m\u001b[0m\u001b[0m\n",
      "\u001b[1;32m~\\AppData\\Local\\Continuum\\anaconda3\\lib\\site-packages\\matplotlib\\axes\\_base.py\u001b[0m in \u001b[0;36m_makeline\u001b[1;34m(self, x, y, kw, kwargs)\u001b[0m\n\u001b[0;32m    253\u001b[0m         \u001b[0mdefault_dict\u001b[0m \u001b[1;33m=\u001b[0m \u001b[0mself\u001b[0m\u001b[1;33m.\u001b[0m\u001b[0m_getdefaults\u001b[0m\u001b[1;33m(\u001b[0m\u001b[0mset\u001b[0m\u001b[1;33m(\u001b[0m\u001b[1;33m)\u001b[0m\u001b[1;33m,\u001b[0m \u001b[0mkw\u001b[0m\u001b[1;33m)\u001b[0m\u001b[1;33m\u001b[0m\u001b[1;33m\u001b[0m\u001b[0m\n\u001b[0;32m    254\u001b[0m         \u001b[0mself\u001b[0m\u001b[1;33m.\u001b[0m\u001b[0m_setdefaults\u001b[0m\u001b[1;33m(\u001b[0m\u001b[0mdefault_dict\u001b[0m\u001b[1;33m,\u001b[0m \u001b[0mkw\u001b[0m\u001b[1;33m)\u001b[0m\u001b[1;33m\u001b[0m\u001b[1;33m\u001b[0m\u001b[0m\n\u001b[1;32m--> 255\u001b[1;33m         \u001b[0mseg\u001b[0m \u001b[1;33m=\u001b[0m \u001b[0mmlines\u001b[0m\u001b[1;33m.\u001b[0m\u001b[0mLine2D\u001b[0m\u001b[1;33m(\u001b[0m\u001b[0mx\u001b[0m\u001b[1;33m,\u001b[0m \u001b[0my\u001b[0m\u001b[1;33m,\u001b[0m \u001b[1;33m**\u001b[0m\u001b[0mkw\u001b[0m\u001b[1;33m)\u001b[0m\u001b[1;33m\u001b[0m\u001b[1;33m\u001b[0m\u001b[0m\n\u001b[0m\u001b[0;32m    256\u001b[0m         \u001b[1;32mreturn\u001b[0m \u001b[0mseg\u001b[0m\u001b[1;33m\u001b[0m\u001b[1;33m\u001b[0m\u001b[0m\n\u001b[0;32m    257\u001b[0m \u001b[1;33m\u001b[0m\u001b[0m\n",
      "\u001b[1;32m~\\AppData\\Local\\Continuum\\anaconda3\\lib\\site-packages\\matplotlib\\lines.py\u001b[0m in \u001b[0;36m__init__\u001b[1;34m(self, xdata, ydata, linewidth, linestyle, color, marker, markersize, markeredgewidth, markeredgecolor, markerfacecolor, markerfacecoloralt, fillstyle, antialiased, dash_capstyle, solid_capstyle, dash_joinstyle, solid_joinstyle, pickradius, drawstyle, markevery, **kwargs)\u001b[0m\n\u001b[0;32m    398\u001b[0m         \u001b[1;31m# update kwargs before updating data to give the caller a\u001b[0m\u001b[1;33m\u001b[0m\u001b[1;33m\u001b[0m\u001b[1;33m\u001b[0m\u001b[0m\n\u001b[0;32m    399\u001b[0m         \u001b[1;31m# chance to init axes (and hence unit support)\u001b[0m\u001b[1;33m\u001b[0m\u001b[1;33m\u001b[0m\u001b[1;33m\u001b[0m\u001b[0m\n\u001b[1;32m--> 400\u001b[1;33m         \u001b[0mself\u001b[0m\u001b[1;33m.\u001b[0m\u001b[0mupdate\u001b[0m\u001b[1;33m(\u001b[0m\u001b[0mkwargs\u001b[0m\u001b[1;33m)\u001b[0m\u001b[1;33m\u001b[0m\u001b[1;33m\u001b[0m\u001b[0m\n\u001b[0m\u001b[0;32m    401\u001b[0m         \u001b[0mself\u001b[0m\u001b[1;33m.\u001b[0m\u001b[0mpickradius\u001b[0m \u001b[1;33m=\u001b[0m \u001b[0mpickradius\u001b[0m\u001b[1;33m\u001b[0m\u001b[1;33m\u001b[0m\u001b[0m\n\u001b[0;32m    402\u001b[0m         \u001b[0mself\u001b[0m\u001b[1;33m.\u001b[0m\u001b[0mind_offset\u001b[0m \u001b[1;33m=\u001b[0m \u001b[1;36m0\u001b[0m\u001b[1;33m\u001b[0m\u001b[1;33m\u001b[0m\u001b[0m\n",
      "\u001b[1;32m~\\AppData\\Local\\Continuum\\anaconda3\\lib\\site-packages\\matplotlib\\artist.py\u001b[0m in \u001b[0;36mupdate\u001b[1;34m(self, props)\u001b[0m\n\u001b[0;32m   1004\u001b[0m \u001b[1;33m\u001b[0m\u001b[0m\n\u001b[0;32m   1005\u001b[0m         \u001b[1;32mwith\u001b[0m \u001b[0mcbook\u001b[0m\u001b[1;33m.\u001b[0m\u001b[0m_setattr_cm\u001b[0m\u001b[1;33m(\u001b[0m\u001b[0mself\u001b[0m\u001b[1;33m,\u001b[0m \u001b[0meventson\u001b[0m\u001b[1;33m=\u001b[0m\u001b[1;32mFalse\u001b[0m\u001b[1;33m)\u001b[0m\u001b[1;33m:\u001b[0m\u001b[1;33m\u001b[0m\u001b[1;33m\u001b[0m\u001b[0m\n\u001b[1;32m-> 1006\u001b[1;33m             \u001b[0mret\u001b[0m \u001b[1;33m=\u001b[0m \u001b[1;33m[\u001b[0m\u001b[0m_update_property\u001b[0m\u001b[1;33m(\u001b[0m\u001b[0mself\u001b[0m\u001b[1;33m,\u001b[0m \u001b[0mk\u001b[0m\u001b[1;33m,\u001b[0m \u001b[0mv\u001b[0m\u001b[1;33m)\u001b[0m \u001b[1;32mfor\u001b[0m \u001b[0mk\u001b[0m\u001b[1;33m,\u001b[0m \u001b[0mv\u001b[0m \u001b[1;32min\u001b[0m \u001b[0mprops\u001b[0m\u001b[1;33m.\u001b[0m\u001b[0mitems\u001b[0m\u001b[1;33m(\u001b[0m\u001b[1;33m)\u001b[0m\u001b[1;33m]\u001b[0m\u001b[1;33m\u001b[0m\u001b[1;33m\u001b[0m\u001b[0m\n\u001b[0m\u001b[0;32m   1007\u001b[0m \u001b[1;33m\u001b[0m\u001b[0m\n\u001b[0;32m   1008\u001b[0m         \u001b[1;32mif\u001b[0m \u001b[0mlen\u001b[0m\u001b[1;33m(\u001b[0m\u001b[0mret\u001b[0m\u001b[1;33m)\u001b[0m\u001b[1;33m:\u001b[0m\u001b[1;33m\u001b[0m\u001b[1;33m\u001b[0m\u001b[0m\n",
      "\u001b[1;32m~\\AppData\\Local\\Continuum\\anaconda3\\lib\\site-packages\\matplotlib\\artist.py\u001b[0m in \u001b[0;36m<listcomp>\u001b[1;34m(.0)\u001b[0m\n\u001b[0;32m   1004\u001b[0m \u001b[1;33m\u001b[0m\u001b[0m\n\u001b[0;32m   1005\u001b[0m         \u001b[1;32mwith\u001b[0m \u001b[0mcbook\u001b[0m\u001b[1;33m.\u001b[0m\u001b[0m_setattr_cm\u001b[0m\u001b[1;33m(\u001b[0m\u001b[0mself\u001b[0m\u001b[1;33m,\u001b[0m \u001b[0meventson\u001b[0m\u001b[1;33m=\u001b[0m\u001b[1;32mFalse\u001b[0m\u001b[1;33m)\u001b[0m\u001b[1;33m:\u001b[0m\u001b[1;33m\u001b[0m\u001b[1;33m\u001b[0m\u001b[0m\n\u001b[1;32m-> 1006\u001b[1;33m             \u001b[0mret\u001b[0m \u001b[1;33m=\u001b[0m \u001b[1;33m[\u001b[0m\u001b[0m_update_property\u001b[0m\u001b[1;33m(\u001b[0m\u001b[0mself\u001b[0m\u001b[1;33m,\u001b[0m \u001b[0mk\u001b[0m\u001b[1;33m,\u001b[0m \u001b[0mv\u001b[0m\u001b[1;33m)\u001b[0m \u001b[1;32mfor\u001b[0m \u001b[0mk\u001b[0m\u001b[1;33m,\u001b[0m \u001b[0mv\u001b[0m \u001b[1;32min\u001b[0m \u001b[0mprops\u001b[0m\u001b[1;33m.\u001b[0m\u001b[0mitems\u001b[0m\u001b[1;33m(\u001b[0m\u001b[1;33m)\u001b[0m\u001b[1;33m]\u001b[0m\u001b[1;33m\u001b[0m\u001b[1;33m\u001b[0m\u001b[0m\n\u001b[0m\u001b[0;32m   1007\u001b[0m \u001b[1;33m\u001b[0m\u001b[0m\n\u001b[0;32m   1008\u001b[0m         \u001b[1;32mif\u001b[0m \u001b[0mlen\u001b[0m\u001b[1;33m(\u001b[0m\u001b[0mret\u001b[0m\u001b[1;33m)\u001b[0m\u001b[1;33m:\u001b[0m\u001b[1;33m\u001b[0m\u001b[1;33m\u001b[0m\u001b[0m\n",
      "\u001b[1;32m~\\AppData\\Local\\Continuum\\anaconda3\\lib\\site-packages\\matplotlib\\artist.py\u001b[0m in \u001b[0;36m_update_property\u001b[1;34m(self, k, v)\u001b[0m\n\u001b[0;32m   1000\u001b[0m                 \u001b[1;32mif\u001b[0m \u001b[1;32mnot\u001b[0m \u001b[0mcallable\u001b[0m\u001b[1;33m(\u001b[0m\u001b[0mfunc\u001b[0m\u001b[1;33m)\u001b[0m\u001b[1;33m:\u001b[0m\u001b[1;33m\u001b[0m\u001b[1;33m\u001b[0m\u001b[0m\n\u001b[0;32m   1001\u001b[0m                     raise AttributeError('{!r} object has no property {!r}'\n\u001b[1;32m-> 1002\u001b[1;33m                                          .format(type(self).__name__, k))\n\u001b[0m\u001b[0;32m   1003\u001b[0m                 \u001b[1;32mreturn\u001b[0m \u001b[0mfunc\u001b[0m\u001b[1;33m(\u001b[0m\u001b[0mv\u001b[0m\u001b[1;33m)\u001b[0m\u001b[1;33m\u001b[0m\u001b[1;33m\u001b[0m\u001b[0m\n\u001b[0;32m   1004\u001b[0m \u001b[1;33m\u001b[0m\u001b[0m\n",
      "\u001b[1;31mAttributeError\u001b[0m: 'Line2D' object has no property 'column'"
     ]
    },
    {
     "data": {
      "image/png": "[encoded data removed]",
      "text/plain": [
       "<Figure size 1440x2160 with 1 Axes>"
      ]
     },
     "metadata": {
      "needs_background": "light"
     },
     "output_type": "display_data"
    }
   ],
   "source": [
    "fig1= plt.figure( figsize=(20, 30))\n",
    "c=5\n",
    "df2 = district.merge(df1, on = 'ADM2_PCODE')\n",
    "for i in range(1,8):\n",
    "    \n",
    "    ax = fig1.add_subplot(3, 3, i)  # create an axes object in the figure\n",
    "    \n",
    "    plot_df=df2.query('year==%s'% (2009+c))\n",
    "    year='-%s'% (2009+c)\n",
    "    df=plot_df.query('CS > 1')\n",
    "    df = df.astype({\"CS\": int})\n",
    "    #colors2=[\"#bababa\",\"#e0e0e0\",\"#ffffff\",\"#fb6a4a\",\"#de2d26\"]\n",
    "    #colors2=['#f6eff7','#f0f9e8','#ffffb2','#fe9929','#e31a1c','#d94701']\n",
    "    colors2=['#f0f9e8','#bae4bc','#ffffb2','#fe9929','#e31a1c','#59140d']\n",
    "    cmap1 = ListedColormap(colors2)\n",
    "    s1=plot_df.plot(column = 'CS',ax=ax, legend = False, cmap =cmap1,linewidth=0.02, edgecolor='0.4',vmin=-0.5, vmax=6)\n",
    "    ax.axis('off')\n",
    "    #plt.clim(1,5) \n",
    "    #POSTO.geometry.boundary.plot(color=None,edgecolor='black',linewidth = .1,ax=ax)\n",
    "    plt.title('IPC-%s '%year,fontsize='30')\n",
    "    #fig.colorbar(cs, ax=ax, shrink=0.9)\n",
    "    c=c+1\n",
    "    plt.tight_layout()"
   ]
  },
  {
   "cell_type": "code",
   "execution_count": 87,
   "metadata": {},
   "outputs": [
    {
     "data": {
      "text/html": [
       "<div>\n",
       "<style scoped>\n",
       "    .dataframe tbody tr th:only-of-type {\n",
       "        vertical-align: middle;\n",
       "    }\n",
       "\n",
       "    .dataframe tbody tr th {\n",
       "        vertical-align: top;\n",
       "    }\n",
       "\n",
       "    .dataframe thead th {\n",
       "        text-align: right;\n",
       "    }\n",
       "</style>\n",
       "<table border=\"1\" class=\"dataframe\">\n",
       "  <thead>\n",
       "    <tr style=\"text-align: right;\">\n",
       "      <th></th>\n",
       "      <th>ADM2_PCODE</th>\n",
       "      <th>CS</th>\n",
       "      <th>_sum</th>\n",
       "      <th>Date</th>\n",
       "      <th>year</th>\n",
       "      <th>pop</th>\n",
       "    </tr>\n",
       "  </thead>\n",
       "  <tbody>\n",
       "    <tr>\n",
       "      <th>0</th>\n",
       "      <td>ZW1601</td>\n",
       "      <td>2</td>\n",
       "      <td>82497</td>\n",
       "      <td>2015-04-01</td>\n",
       "      <td>2015</td>\n",
       "      <td>82497</td>\n",
       "    </tr>\n",
       "    <tr>\n",
       "      <th>2</th>\n",
       "      <td>ZW1801</td>\n",
       "      <td>2</td>\n",
       "      <td>177287</td>\n",
       "      <td>2015-04-01</td>\n",
       "      <td>2015</td>\n",
       "      <td>177287</td>\n",
       "    </tr>\n",
       "    <tr>\n",
       "      <th>4</th>\n",
       "      <td>ZW1502</td>\n",
       "      <td>2</td>\n",
       "      <td>73114</td>\n",
       "      <td>2015-04-01</td>\n",
       "      <td>2015</td>\n",
       "      <td>73114</td>\n",
       "    </tr>\n",
       "    <tr>\n",
       "      <th>5</th>\n",
       "      <td>ZW1101</td>\n",
       "      <td>2</td>\n",
       "      <td>267696</td>\n",
       "      <td>2015-04-01</td>\n",
       "      <td>2015</td>\n",
       "      <td>267696</td>\n",
       "    </tr>\n",
       "    <tr>\n",
       "      <th>6</th>\n",
       "      <td>ZW1602</td>\n",
       "      <td>2</td>\n",
       "      <td>87309</td>\n",
       "      <td>2015-04-01</td>\n",
       "      <td>2015</td>\n",
       "      <td>87309</td>\n",
       "    </tr>\n",
       "    <tr>\n",
       "      <th>...</th>\n",
       "      <td>...</td>\n",
       "      <td>...</td>\n",
       "      <td>...</td>\n",
       "      <td>...</td>\n",
       "      <td>...</td>\n",
       "      <td>...</td>\n",
       "    </tr>\n",
       "    <tr>\n",
       "      <th>193</th>\n",
       "      <td>ZW1428</td>\n",
       "      <td>2</td>\n",
       "      <td>129589</td>\n",
       "      <td>2020-10-01</td>\n",
       "      <td>2020</td>\n",
       "      <td>129589</td>\n",
       "    </tr>\n",
       "    <tr>\n",
       "      <th>194</th>\n",
       "      <td>ZW1308</td>\n",
       "      <td>2</td>\n",
       "      <td>165024</td>\n",
       "      <td>2020-10-01</td>\n",
       "      <td>2020</td>\n",
       "      <td>165024</td>\n",
       "    </tr>\n",
       "    <tr>\n",
       "      <th>195</th>\n",
       "      <td>ZW1207</td>\n",
       "      <td>2</td>\n",
       "      <td>135851</td>\n",
       "      <td>2020-10-01</td>\n",
       "      <td>2020</td>\n",
       "      <td>135851</td>\n",
       "    </tr>\n",
       "    <tr>\n",
       "      <th>197</th>\n",
       "      <td>ZW1728</td>\n",
       "      <td>2</td>\n",
       "      <td>23241</td>\n",
       "      <td>2020-10-01</td>\n",
       "      <td>2020</td>\n",
       "      <td>23241</td>\n",
       "    </tr>\n",
       "    <tr>\n",
       "      <th>203</th>\n",
       "      <td>ZW1725</td>\n",
       "      <td>2</td>\n",
       "      <td>49383</td>\n",
       "      <td>2020-10-01</td>\n",
       "      <td>2020</td>\n",
       "      <td>49383</td>\n",
       "    </tr>\n",
       "  </tbody>\n",
       "</table>\n",
       "<p>922 rows × 6 columns</p>\n",
       "</div>"
      ],
      "text/plain": [
       "    ADM2_PCODE  CS    _sum        Date  year     pop\n",
       "0       ZW1601   2   82497  2015-04-01  2015   82497\n",
       "2       ZW1801   2  177287  2015-04-01  2015  177287\n",
       "4       ZW1502   2   73114  2015-04-01  2015   73114\n",
       "5       ZW1101   2  267696  2015-04-01  2015  267696\n",
       "6       ZW1602   2   87309  2015-04-01  2015   87309\n",
       "..         ...  ..     ...         ...   ...     ...\n",
       "193     ZW1428   2  129589  2020-10-01  2020  129589\n",
       "194     ZW1308   2  165024  2020-10-01  2020  165024\n",
       "195     ZW1207   2  135851  2020-10-01  2020  135851\n",
       "197     ZW1728   2   23241  2020-10-01  2020   23241\n",
       "203     ZW1725   2   49383  2020-10-01  2020   49383\n",
       "\n",
       "[922 rows x 6 columns]"
      ]
     },
     "execution_count": 87,
     "metadata": {},
     "output_type": "execute_result"
    }
   ],
   "source": [
    "df1"
   ]
  },
  {
   "cell_type": "code",
   "execution_count": null,
   "metadata": {},
   "outputs": [],
   "source": []
  }
 ],
 "metadata": {
  "kernelspec": {
   "display_name": "Python 3",
   "language": "python",
   "name": "python3"
  },
  "language_info": {
   "codemirror_mode": {
    "name": "ipython",
    "version": 3
   },
   "file_extension": ".py",
   "mimetype": "text/x-python",
   "name": "python",
   "nbconvert_exporter": "python",
   "pygments_lexer": "ipython3",
   "version": "3.7.4"
  }
 },
 "nbformat": 4,
 "nbformat_minor": 2
}
