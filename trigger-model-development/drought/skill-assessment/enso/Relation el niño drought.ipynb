{
 "cells": [
  {
   "cell_type": "markdown",
   "metadata": {},
   "source": [
    "# Loading data sets"
   ]
  },
  {
   "cell_type": "code",
   "execution_count": 9,
   "metadata": {},
   "outputs": [],
   "source": [
    "import pandas as pd\n",
    "all_yield = pd.read_csv(\"C:/Users/MPanis/Rode Kruis/510 - Data preparedness and IBF - [PRJ] FbF - Zimbabwe - Danish Red Cross/3. Data - Hazard exposure, vulnerability/zwe_cropyield/all_yield_maize_major.csv\",index_col='pcode')\n",
    "enso = pd.read_csv(\"ENSO.csv\")"
   ]
  },
  {
   "cell_type": "markdown",
   "metadata": {},
   "source": [
    "\n",
    "## Drought years"
   ]
  },
  {
   "cell_type": "markdown",
   "metadata": {},
   "source": [
    "We remove the livelyhoods and the year that only have nan values for the yield."
   ]
  },
  {
   "cell_type": "code",
   "execution_count": 10,
   "metadata": {},
   "outputs": [],
   "source": [
    "all_yield = all_yield[all_yield['year']!=1981]\n",
    "all_yield = all_yield.drop('ZW0')\n",
    "all_yield = all_yield.drop('ZW08')\n",
    "all_yield = all_yield.drop('ZW13')\n",
    "all_yield = all_yield.drop('ZW19')"
   ]
  },
  {
   "cell_type": "markdown",
   "metadata": {},
   "source": [
    "Computing the mean & standard deviation per livelyhood and subsequently the anomaly."
   ]
  },
  {
   "cell_type": "code",
   "execution_count": 11,
   "metadata": {},
   "outputs": [],
   "source": [
    "all_yield['mean'] =  all_yield[['yield']].groupby(\"pcode\").mean()\n",
    "all_yield['std'] =  all_yield[['yield']].groupby(\"pcode\").std()\n",
    "all_yield['anomaly'] = (all_yield['yield']-all_yield['mean'])/all_yield['std']\n"
   ]
  },
  {
   "cell_type": "code",
   "execution_count": 12,
   "metadata": {},
   "outputs": [
    {
     "data": {
      "text/html": [
       "<div>\n",
       "<style scoped>\n",
       "    .dataframe tbody tr th:only-of-type {\n",
       "        vertical-align: middle;\n",
       "    }\n",
       "\n",
       "    .dataframe tbody tr th {\n",
       "        vertical-align: top;\n",
       "    }\n",
       "\n",
       "    .dataframe thead th {\n",
       "        text-align: right;\n",
       "    }\n",
       "</style>\n",
       "<table border=\"1\" class=\"dataframe\">\n",
       "  <thead>\n",
       "    <tr style=\"text-align: right;\">\n",
       "      <th></th>\n",
       "      <th>year</th>\n",
       "      <th>yield</th>\n",
       "      <th>mean</th>\n",
       "      <th>std</th>\n",
       "      <th>anomaly</th>\n",
       "    </tr>\n",
       "    <tr>\n",
       "      <th>pcode</th>\n",
       "      <th></th>\n",
       "      <th></th>\n",
       "      <th></th>\n",
       "      <th></th>\n",
       "      <th></th>\n",
       "    </tr>\n",
       "  </thead>\n",
       "  <tbody>\n",
       "    <tr>\n",
       "      <th>ZW01</th>\n",
       "      <td>1982</td>\n",
       "      <td>1.100027</td>\n",
       "      <td>1.229828</td>\n",
       "      <td>0.341868</td>\n",
       "      <td>-0.379683</td>\n",
       "    </tr>\n",
       "    <tr>\n",
       "      <th>ZW02</th>\n",
       "      <td>1982</td>\n",
       "      <td>0.808338</td>\n",
       "      <td>0.713751</td>\n",
       "      <td>0.324571</td>\n",
       "      <td>0.291422</td>\n",
       "    </tr>\n",
       "    <tr>\n",
       "      <th>ZW03</th>\n",
       "      <td>1982</td>\n",
       "      <td>1.361959</td>\n",
       "      <td>1.102925</td>\n",
       "      <td>0.503937</td>\n",
       "      <td>0.514021</td>\n",
       "    </tr>\n",
       "    <tr>\n",
       "      <th>ZW04</th>\n",
       "      <td>1982</td>\n",
       "      <td>1.192120</td>\n",
       "      <td>0.989794</td>\n",
       "      <td>0.444371</td>\n",
       "      <td>0.455308</td>\n",
       "    </tr>\n",
       "    <tr>\n",
       "      <th>ZW05</th>\n",
       "      <td>1982</td>\n",
       "      <td>1.333377</td>\n",
       "      <td>1.160868</td>\n",
       "      <td>0.586593</td>\n",
       "      <td>0.294087</td>\n",
       "    </tr>\n",
       "    <tr>\n",
       "      <th>...</th>\n",
       "      <td>...</td>\n",
       "      <td>...</td>\n",
       "      <td>...</td>\n",
       "      <td>...</td>\n",
       "      <td>...</td>\n",
       "    </tr>\n",
       "    <tr>\n",
       "      <th>ZW22</th>\n",
       "      <td>2016</td>\n",
       "      <td>0.686206</td>\n",
       "      <td>0.508226</td>\n",
       "      <td>0.212110</td>\n",
       "      <td>0.839096</td>\n",
       "    </tr>\n",
       "    <tr>\n",
       "      <th>ZW23</th>\n",
       "      <td>2016</td>\n",
       "      <td>0.581053</td>\n",
       "      <td>0.862821</td>\n",
       "      <td>0.355208</td>\n",
       "      <td>-0.793247</td>\n",
       "    </tr>\n",
       "    <tr>\n",
       "      <th>ZW24</th>\n",
       "      <td>2016</td>\n",
       "      <td>0.568713</td>\n",
       "      <td>0.955872</td>\n",
       "      <td>0.463157</td>\n",
       "      <td>-0.835913</td>\n",
       "    </tr>\n",
       "    <tr>\n",
       "      <th>ZW25</th>\n",
       "      <td>2016</td>\n",
       "      <td>0.510017</td>\n",
       "      <td>0.914639</td>\n",
       "      <td>0.438046</td>\n",
       "      <td>-0.923698</td>\n",
       "    </tr>\n",
       "    <tr>\n",
       "      <th>ZW26</th>\n",
       "      <td>2016</td>\n",
       "      <td>0.701994</td>\n",
       "      <td>1.032006</td>\n",
       "      <td>0.402864</td>\n",
       "      <td>-0.819165</td>\n",
       "    </tr>\n",
       "  </tbody>\n",
       "</table>\n",
       "<p>805 rows × 5 columns</p>\n",
       "</div>"
      ],
      "text/plain": [
       "       year     yield      mean       std   anomaly\n",
       "pcode                                              \n",
       "ZW01   1982  1.100027  1.229828  0.341868 -0.379683\n",
       "ZW02   1982  0.808338  0.713751  0.324571  0.291422\n",
       "ZW03   1982  1.361959  1.102925  0.503937  0.514021\n",
       "ZW04   1982  1.192120  0.989794  0.444371  0.455308\n",
       "ZW05   1982  1.333377  1.160868  0.586593  0.294087\n",
       "...     ...       ...       ...       ...       ...\n",
       "ZW22   2016  0.686206  0.508226  0.212110  0.839096\n",
       "ZW23   2016  0.581053  0.862821  0.355208 -0.793247\n",
       "ZW24   2016  0.568713  0.955872  0.463157 -0.835913\n",
       "ZW25   2016  0.510017  0.914639  0.438046 -0.923698\n",
       "ZW26   2016  0.701994  1.032006  0.402864 -0.819165\n",
       "\n",
       "[805 rows x 5 columns]"
      ]
     },
     "execution_count": 12,
     "metadata": {},
     "output_type": "execute_result"
    }
   ],
   "source": [
    "all_yield"
   ]
  },
  {
   "cell_type": "markdown",
   "metadata": {},
   "source": [
    "We now determine the drought years"
   ]
  },
  {
   "cell_type": "code",
   "execution_count": 13,
   "metadata": {},
   "outputs": [],
   "source": [
    "all_yield['drought'] = all_yield['anomaly']<=-1\n",
    "nr_livelyhoods_drought = all_yield[['year','drought']].groupby('year').sum()\n",
    "drought_years = list(nr_livelyhoods_drought[nr_livelyhoods_drought['drought']>=10].index)"
   ]
  },
  {
   "cell_type": "code",
   "execution_count": 14,
   "metadata": {},
   "outputs": [
    {
     "data": {
      "text/plain": [
       "[1992, 1995, 2002, 2005, 2008, 2009, 2015]"
      ]
     },
     "execution_count": 14,
     "metadata": {},
     "output_type": "execute_result"
    }
   ],
   "source": [
    "drought_years"
   ]
  },
  {
   "cell_type": "markdown",
   "metadata": {},
   "source": [
    "# El Niño years"
   ]
  },
  {
   "cell_type": "markdown",
   "metadata": {},
   "source": [
    "We restrict the data to the years we have the yield of."
   ]
  },
  {
   "cell_type": "code",
   "execution_count": 102,
   "metadata": {},
   "outputs": [],
   "source": [
    "enso = enso[(enso[\"Year\"]>=1981) & (enso[\"Year\"]<=2016)]\n",
    "transformed_enso = enso.drop(\"Year\",axis=1).stack().reset_index().drop(\"level_0\",axis=1).set_index(\"level_1\")"
   ]
  },
  {
   "cell_type": "code",
   "execution_count": 103,
   "metadata": {},
   "outputs": [
    {
     "data": {
      "text/plain": [
       "<matplotlib.axes._subplots.AxesSubplot at 0x17eb8c20808>"
      ]
     },
     "execution_count": 103,
     "metadata": {},
     "output_type": "execute_result"
    },
    {
     "data": {
      "image/png": "[encoded data removed]",
      "text/plain": [
       "<Figure size 432x288 with 1 Axes>"
      ]
     },
     "metadata": {
      "needs_background": "light"
     },
     "output_type": "display_data"
    }
   ],
   "source": [
    "transformed_enso.plot()"
   ]
  },
  {
   "cell_type": "markdown",
   "metadata": {},
   "source": [
    "We now determine which years can be characterized as El niño (and la niña) years, i.e. they have 5 or more subsequent months in which the enso indicator is larger or equal to 0.5 (or smaller or equal to -0.5). The 3-month averages we consider start with JAS (July-August-September) of the previous year and end with JJA of the examined year. "
   ]
  },
  {
   "cell_type": "code",
   "execution_count": 104,
   "metadata": {},
   "outputs": [],
   "source": [
    "months1=[\"JAS\",\"ASO\",\"SON\",\"OND\",\"NDJ\"]\n",
    "months2=[\"DJF\",\"JFM\",\"FMA\",\"MAM\",\"AMJ\",\"MJJ\",\"JJA\"]\n",
    "for year in enso.loc[enso[\"Year\"]>=1982,\"Year\"]:\n",
    "    yearr = enso[enso[\"Year\"]==year-1].reset_index()\n",
    "    total1 = (yearr.loc[:,\"JAS\":\"NDJ\"]>=0.5).sum(axis=1)[0]\n",
    "    total2 = (yearr.loc[:,\"JAS\":\"NDJ\"]<=-0.5).sum(axis=1)[0]\n",
    "    yearr = enso[enso[\"Year\"]==year].reset_index()\n",
    "    total1 += (yearr.loc[:,\"DJF\":\"JJA\"]>=0.5).sum(axis=1)[0]\n",
    "    total2 += (yearr.loc[:,\"DJF\":\"JJA\"]<=-0.5).sum(axis=1)[0]\n",
    "    if total1>=5:\n",
    "        enso.loc[enso[\"Year\"]==year,\"elnino\"]=True\n",
    "    else:\n",
    "        enso.loc[enso[\"Year\"]==year,\"elnino\"]=False\n",
    "    if total2>=5:\n",
    "        enso.loc[enso[\"Year\"]==year,\"lanina\"]=True\n",
    "    else:\n",
    "        enso.loc[enso[\"Year\"]==year,\"lanina\"]=False\n",
    "\n",
    "\n",
    "\n"
   ]
  },
  {
   "cell_type": "code",
   "execution_count": 83,
   "metadata": {
    "scrolled": true
   },
   "outputs": [],
   "source": [
    "elnino = list(enso[(enso[\"elnino\"]==True)][\"Year\"])\n",
    "lanina = list(enso[(enso[\"lanina\"]==True)][\"Year\"])"
   ]
  },
  {
   "cell_type": "code",
   "execution_count": 84,
   "metadata": {
    "scrolled": false
   },
   "outputs": [
    {
     "data": {
      "text/plain": [
       "[1983, 1987, 1988, 1992, 1995, 1998, 2003, 2005, 2007, 2010, 2015, 2016]"
      ]
     },
     "execution_count": 84,
     "metadata": {},
     "output_type": "execute_result"
    }
   ],
   "source": [
    "elnino"
   ]
  },
  {
   "cell_type": "code",
   "execution_count": 113,
   "metadata": {},
   "outputs": [],
   "source": [
    "#FAR = FA / (FA + HIT) \n",
    "FAR_ = 8 / (8 + 4) # crop yield Anomaly = -.1\n",
    "POD_ = 4/ (3+4)\n",
    "FAR = 4 / (4+8) # crop yiled anomlay = -.0.5 \n",
    "POD = 8 / (8+5)\n",
    "FAR_EMDAT = 3 / (3 + 3) # based on EMDAT Drought Reported Droughts\n",
    "POD_EMDAT = 3 /  (3 + 3)"
   ]
  },
  {
   "cell_type": "markdown",
   "metadata": {},
   "source": [
    "# Examination relation el niño and drought years "
   ]
  },
  {
   "cell_type": "markdown",
   "metadata": {},
   "source": [
    "* How many drought years would have been detected: 4 out of 7, namely 1992, 1995, 2005, 2015\n",
    "* FAR = 2/3\n",
    "* How many triggers in the last 10 years: 2"
   ]
  },
  {
   "cell_type": "markdown",
   "metadata": {},
   "source": [
    "Let's examine the enso for the drought years that wouldn't have been detected: 2002, 2008 and 2009."
   ]
  },
  {
   "cell_type": "code",
   "execution_count": 33,
   "metadata": {},
   "outputs": [
    {
     "data": {
      "text/html": [
       "<div>\n",
       "<style scoped>\n",
       "    .dataframe tbody tr th:only-of-type {\n",
       "        vertical-align: middle;\n",
       "    }\n",
       "\n",
       "    .dataframe tbody tr th {\n",
       "        vertical-align: top;\n",
       "    }\n",
       "\n",
       "    .dataframe thead th {\n",
       "        text-align: right;\n",
       "    }\n",
       "</style>\n",
       "<table border=\"1\" class=\"dataframe\">\n",
       "  <thead>\n",
       "    <tr style=\"text-align: right;\">\n",
       "      <th></th>\n",
       "      <th>Year</th>\n",
       "      <th>DJF</th>\n",
       "      <th>JFM</th>\n",
       "      <th>FMA</th>\n",
       "      <th>MAM</th>\n",
       "      <th>AMJ</th>\n",
       "      <th>MJJ</th>\n",
       "      <th>JJA</th>\n",
       "      <th>JAS</th>\n",
       "      <th>ASO</th>\n",
       "      <th>SON</th>\n",
       "      <th>OND</th>\n",
       "      <th>NDJ</th>\n",
       "      <th>elnino</th>\n",
       "      <th>lanina</th>\n",
       "    </tr>\n",
       "  </thead>\n",
       "  <tbody>\n",
       "    <tr>\n",
       "      <th>51</th>\n",
       "      <td>2001</td>\n",
       "      <td>-0.7</td>\n",
       "      <td>-0.5</td>\n",
       "      <td>-0.4</td>\n",
       "      <td>-0.3</td>\n",
       "      <td>-0.3</td>\n",
       "      <td>-0.1</td>\n",
       "      <td>-0.1</td>\n",
       "      <td>-0.1</td>\n",
       "      <td>-0.2</td>\n",
       "      <td>-0.3</td>\n",
       "      <td>-0.3</td>\n",
       "      <td>-0.3</td>\n",
       "      <td>False</td>\n",
       "      <td>True</td>\n",
       "    </tr>\n",
       "    <tr>\n",
       "      <th>52</th>\n",
       "      <td>2002</td>\n",
       "      <td>-0.1</td>\n",
       "      <td>0.0</td>\n",
       "      <td>0.1</td>\n",
       "      <td>0.2</td>\n",
       "      <td>0.4</td>\n",
       "      <td>0.7</td>\n",
       "      <td>0.8</td>\n",
       "      <td>0.9</td>\n",
       "      <td>1.0</td>\n",
       "      <td>1.2</td>\n",
       "      <td>1.3</td>\n",
       "      <td>1.1</td>\n",
       "      <td>False</td>\n",
       "      <td>False</td>\n",
       "    </tr>\n",
       "    <tr>\n",
       "      <th>57</th>\n",
       "      <td>2007</td>\n",
       "      <td>0.7</td>\n",
       "      <td>0.3</td>\n",
       "      <td>0.0</td>\n",
       "      <td>-0.2</td>\n",
       "      <td>-0.3</td>\n",
       "      <td>-0.4</td>\n",
       "      <td>-0.5</td>\n",
       "      <td>-0.8</td>\n",
       "      <td>-1.1</td>\n",
       "      <td>-1.4</td>\n",
       "      <td>-1.5</td>\n",
       "      <td>-1.6</td>\n",
       "      <td>True</td>\n",
       "      <td>False</td>\n",
       "    </tr>\n",
       "    <tr>\n",
       "      <th>58</th>\n",
       "      <td>2008</td>\n",
       "      <td>-1.6</td>\n",
       "      <td>-1.4</td>\n",
       "      <td>-1.2</td>\n",
       "      <td>-0.9</td>\n",
       "      <td>-0.8</td>\n",
       "      <td>-0.5</td>\n",
       "      <td>-0.4</td>\n",
       "      <td>-0.3</td>\n",
       "      <td>-0.3</td>\n",
       "      <td>-0.4</td>\n",
       "      <td>-0.6</td>\n",
       "      <td>-0.7</td>\n",
       "      <td>False</td>\n",
       "      <td>True</td>\n",
       "    </tr>\n",
       "    <tr>\n",
       "      <th>59</th>\n",
       "      <td>2009</td>\n",
       "      <td>-0.8</td>\n",
       "      <td>-0.7</td>\n",
       "      <td>-0.5</td>\n",
       "      <td>-0.2</td>\n",
       "      <td>0.1</td>\n",
       "      <td>0.4</td>\n",
       "      <td>0.5</td>\n",
       "      <td>0.5</td>\n",
       "      <td>0.7</td>\n",
       "      <td>1.0</td>\n",
       "      <td>1.3</td>\n",
       "      <td>1.6</td>\n",
       "      <td>False</td>\n",
       "      <td>True</td>\n",
       "    </tr>\n",
       "  </tbody>\n",
       "</table>\n",
       "</div>"
      ],
      "text/plain": [
       "    Year  DJF  JFM  FMA  MAM  AMJ  MJJ  JJA  JAS  ASO  SON  OND  NDJ elnino  \\\n",
       "51  2001 -0.7 -0.5 -0.4 -0.3 -0.3 -0.1 -0.1 -0.1 -0.2 -0.3 -0.3 -0.3  False   \n",
       "52  2002 -0.1  0.0  0.1  0.2  0.4  0.7  0.8  0.9  1.0  1.2  1.3  1.1  False   \n",
       "57  2007  0.7  0.3  0.0 -0.2 -0.3 -0.4 -0.5 -0.8 -1.1 -1.4 -1.5 -1.6   True   \n",
       "58  2008 -1.6 -1.4 -1.2 -0.9 -0.8 -0.5 -0.4 -0.3 -0.3 -0.4 -0.6 -0.7  False   \n",
       "59  2009 -0.8 -0.7 -0.5 -0.2  0.1  0.4  0.5  0.5  0.7  1.0  1.3  1.6  False   \n",
       "\n",
       "   lanina  \n",
       "51   True  \n",
       "52  False  \n",
       "57  False  \n",
       "58   True  \n",
       "59   True  "
      ]
     },
     "execution_count": 33,
     "metadata": {},
     "output_type": "execute_result"
    }
   ],
   "source": [
    "enso[enso['Year'].isin([2001,2002,2007, 2008, 2009])]"
   ]
  },
  {
   "cell_type": "code",
   "execution_count": 108,
   "metadata": {},
   "outputs": [
    {
     "data": {
      "text/html": [
       "<div>\n",
       "<style scoped>\n",
       "    .dataframe tbody tr th:only-of-type {\n",
       "        vertical-align: middle;\n",
       "    }\n",
       "\n",
       "    .dataframe tbody tr th {\n",
       "        vertical-align: top;\n",
       "    }\n",
       "\n",
       "    .dataframe thead th {\n",
       "        text-align: right;\n",
       "    }\n",
       "</style>\n",
       "<table border=\"1\" class=\"dataframe\">\n",
       "  <thead>\n",
       "    <tr style=\"text-align: right;\">\n",
       "      <th></th>\n",
       "      <th>Year</th>\n",
       "      <th>DJF</th>\n",
       "      <th>JFM</th>\n",
       "      <th>FMA</th>\n",
       "      <th>MAM</th>\n",
       "      <th>AMJ</th>\n",
       "      <th>MJJ</th>\n",
       "      <th>JJA</th>\n",
       "      <th>JAS</th>\n",
       "      <th>ASO</th>\n",
       "      <th>SON</th>\n",
       "      <th>OND</th>\n",
       "      <th>NDJ</th>\n",
       "      <th>elnino</th>\n",
       "      <th>lanina</th>\n",
       "    </tr>\n",
       "  </thead>\n",
       "  <tbody>\n",
       "    <tr>\n",
       "      <th>32</th>\n",
       "      <td>1982</td>\n",
       "      <td>0.0</td>\n",
       "      <td>0.1</td>\n",
       "      <td>0.2</td>\n",
       "      <td>0.5</td>\n",
       "      <td>0.7</td>\n",
       "      <td>0.7</td>\n",
       "      <td>0.8</td>\n",
       "      <td>1.1</td>\n",
       "      <td>1.6</td>\n",
       "      <td>2.0</td>\n",
       "      <td>2.2</td>\n",
       "      <td>2.2</td>\n",
       "      <td>False</td>\n",
       "      <td>False</td>\n",
       "    </tr>\n",
       "    <tr>\n",
       "      <th>41</th>\n",
       "      <td>1991</td>\n",
       "      <td>0.4</td>\n",
       "      <td>0.3</td>\n",
       "      <td>0.2</td>\n",
       "      <td>0.3</td>\n",
       "      <td>0.5</td>\n",
       "      <td>0.6</td>\n",
       "      <td>0.7</td>\n",
       "      <td>0.6</td>\n",
       "      <td>0.6</td>\n",
       "      <td>0.8</td>\n",
       "      <td>1.2</td>\n",
       "      <td>1.5</td>\n",
       "      <td>False</td>\n",
       "      <td>False</td>\n",
       "    </tr>\n",
       "    <tr>\n",
       "      <th>48</th>\n",
       "      <td>1998</td>\n",
       "      <td>2.2</td>\n",
       "      <td>1.9</td>\n",
       "      <td>1.4</td>\n",
       "      <td>1.0</td>\n",
       "      <td>0.5</td>\n",
       "      <td>-0.1</td>\n",
       "      <td>-0.8</td>\n",
       "      <td>-1.1</td>\n",
       "      <td>-1.3</td>\n",
       "      <td>-1.4</td>\n",
       "      <td>-1.5</td>\n",
       "      <td>-1.6</td>\n",
       "      <td>True</td>\n",
       "      <td>False</td>\n",
       "    </tr>\n",
       "    <tr>\n",
       "      <th>51</th>\n",
       "      <td>2001</td>\n",
       "      <td>-0.7</td>\n",
       "      <td>-0.5</td>\n",
       "      <td>-0.4</td>\n",
       "      <td>-0.3</td>\n",
       "      <td>-0.3</td>\n",
       "      <td>-0.1</td>\n",
       "      <td>-0.1</td>\n",
       "      <td>-0.1</td>\n",
       "      <td>-0.2</td>\n",
       "      <td>-0.3</td>\n",
       "      <td>-0.3</td>\n",
       "      <td>-0.3</td>\n",
       "      <td>False</td>\n",
       "      <td>True</td>\n",
       "    </tr>\n",
       "    <tr>\n",
       "      <th>57</th>\n",
       "      <td>2007</td>\n",
       "      <td>0.7</td>\n",
       "      <td>0.3</td>\n",
       "      <td>0.0</td>\n",
       "      <td>-0.2</td>\n",
       "      <td>-0.3</td>\n",
       "      <td>-0.4</td>\n",
       "      <td>-0.5</td>\n",
       "      <td>-0.8</td>\n",
       "      <td>-1.1</td>\n",
       "      <td>-1.4</td>\n",
       "      <td>-1.5</td>\n",
       "      <td>-1.6</td>\n",
       "      <td>True</td>\n",
       "      <td>False</td>\n",
       "    </tr>\n",
       "    <tr>\n",
       "      <th>60</th>\n",
       "      <td>2010</td>\n",
       "      <td>1.5</td>\n",
       "      <td>1.3</td>\n",
       "      <td>0.9</td>\n",
       "      <td>0.4</td>\n",
       "      <td>-0.1</td>\n",
       "      <td>-0.6</td>\n",
       "      <td>-1.0</td>\n",
       "      <td>-1.4</td>\n",
       "      <td>-1.6</td>\n",
       "      <td>-1.7</td>\n",
       "      <td>-1.7</td>\n",
       "      <td>-1.6</td>\n",
       "      <td>True</td>\n",
       "      <td>False</td>\n",
       "    </tr>\n",
       "  </tbody>\n",
       "</table>\n",
       "</div>"
      ],
      "text/plain": [
       "    Year  DJF  JFM  FMA  MAM  AMJ  MJJ  JJA  JAS  ASO  SON  OND  NDJ elnino  \\\n",
       "32  1982  0.0  0.1  0.2  0.5  0.7  0.7  0.8  1.1  1.6  2.0  2.2  2.2  False   \n",
       "41  1991  0.4  0.3  0.2  0.3  0.5  0.6  0.7  0.6  0.6  0.8  1.2  1.5  False   \n",
       "48  1998  2.2  1.9  1.4  1.0  0.5 -0.1 -0.8 -1.1 -1.3 -1.4 -1.5 -1.6   True   \n",
       "51  2001 -0.7 -0.5 -0.4 -0.3 -0.3 -0.1 -0.1 -0.1 -0.2 -0.3 -0.3 -0.3  False   \n",
       "57  2007  0.7  0.3  0.0 -0.2 -0.3 -0.4 -0.5 -0.8 -1.1 -1.4 -1.5 -1.6   True   \n",
       "60  2010  1.5  1.3  0.9  0.4 -0.1 -0.6 -1.0 -1.4 -1.6 -1.7 -1.7 -1.6   True   \n",
       "\n",
       "   lanina  \n",
       "32  False  \n",
       "41  False  \n",
       "48  False  \n",
       "51   True  \n",
       "57  False  \n",
       "60  False  "
      ]
     },
     "execution_count": 108,
     "metadata": {},
     "output_type": "execute_result"
    }
   ],
   "source": [
    "enso[enso['Year'].isin([1982,1991,1998, 2001, 2007, 2010])] #EMDAT DROUGHT YEARS"
   ]
  },
  {
   "cell_type": "markdown",
   "metadata": {},
   "source": [
    "We find that both 2008 and 2009 are la nina years. So a slight change in our criteria for triggering for el niño is not going to make a difference."
   ]
  },
  {
   "cell_type": "markdown",
   "metadata": {},
   "source": [
    "We  now examine the relation between yield in el niño and la niña years. Per livelyhood we check if the distribution of yield in el nino years is significantly less than in la niña years by doing a T-test."
   ]
  },
  {
   "cell_type": "code",
   "execution_count": 34,
   "metadata": {},
   "outputs": [],
   "source": [
    "from scipy.stats import ttest_ind"
   ]
  },
  {
   "cell_type": "code",
   "execution_count": 35,
   "metadata": {},
   "outputs": [],
   "source": [
    "elnino_yield = all_yield[all_yield['year'].isin(elnino)]['yield']\n",
    "lanina_yield = all_yield[all_yield['year'].isin(lanina)]['yield']"
   ]
  },
  {
   "cell_type": "code",
   "execution_count": 36,
   "metadata": {},
   "outputs": [
    {
     "name": "stdout",
     "output_type": "stream",
     "text": [
      "ZW01 -1.95 0.033\n",
      "ZW02 -1.959 0.032\n",
      "ZW03 -1.738 0.049\n",
      "ZW04 -1.804 0.043\n",
      "ZW05 nan nan\n",
      "ZW06 -1.859 0.039\n",
      "ZW07 -1.778 0.045\n",
      "ZW09 -1.994 0.03\n",
      "ZW10 -1.792 0.044\n",
      "ZW11 -1.867 0.038\n",
      "ZW12 -1.79 0.044\n",
      "ZW14 -1.971 0.032\n",
      "ZW15 -1.957 0.033\n",
      "ZW16 -1.93 0.034\n",
      "ZW17 -1.915 0.035\n",
      "ZW18 -1.965 0.032\n",
      "ZW20 -1.822 0.041\n",
      "ZW21 -2.013 0.029\n",
      "ZW22 -1.475 0.077\n",
      "ZW23 -2.25 0.018\n",
      "ZW24 -1.95 0.033\n",
      "ZW25 -1.905 0.035\n",
      "ZW26 -2.042 0.027\n"
     ]
    }
   ],
   "source": [
    "for index in elnino_yield.index.unique():\n",
    "    statistic, pvalue = ttest_ind(elnino_yield[index],lanina_yield[index],equal_var=False)\n",
    "    print(index,round(statistic,3), round(pvalue/2,3))"
   ]
  },
  {
   "cell_type": "markdown",
   "metadata": {},
   "source": [
    "With a 5% confidence level we thus indeed find a lower yield in el nino years than in la nina years."
   ]
  },
  {
   "cell_type": "markdown",
   "metadata": {},
   "source": [
    "Let's also examine if we find a difference in yield between years in a el nino dominant cycle or in a la nina dominant cycle."
   ]
  },
  {
   "cell_type": "code",
   "execution_count": 37,
   "metadata": {},
   "outputs": [],
   "source": [
    "elnino_cycle = [1984,1985,1986,1987,1988,1989,1990,1991,1992,2001,2002,2003,2004,2005,2006,2007]\n",
    "lanina_cycle = [1993,1994,1995,1996,1997,1998,1999,2000,2008,2009,2010,2011,2012,2013,2014]"
   ]
  },
  {
   "cell_type": "code",
   "execution_count": 38,
   "metadata": {},
   "outputs": [],
   "source": [
    "elninocycle_yield = all_yield[all_yield['year'].isin(elnino_cycle)]['yield']\n",
    "laninacycle_yield = all_yield[all_yield['year'].isin(lanina_cycle)]['yield']"
   ]
  },
  {
   "cell_type": "code",
   "execution_count": 39,
   "metadata": {},
   "outputs": [
    {
     "name": "stdout",
     "output_type": "stream",
     "text": [
      "ZW01 -1.087 0.143\n",
      "ZW02 -0.012 0.495\n",
      "ZW03 0.553 0.292\n",
      "ZW04 0.476 0.319\n",
      "ZW05 0.675 0.252\n",
      "ZW06 0.687 0.249\n",
      "ZW07 0.58 0.283\n",
      "ZW09 0.408 0.343\n",
      "ZW10 0.525 0.302\n",
      "ZW11 0.496 0.312\n",
      "ZW12 0.465 0.323\n",
      "ZW14 0.583 0.282\n",
      "ZW15 0.515 0.305\n",
      "ZW16 0.424 0.337\n",
      "ZW17 0.502 0.31\n",
      "ZW18 0.194 0.424\n",
      "ZW20 0.304 0.382\n",
      "ZW21 0.306 0.381\n",
      "ZW22 -3.792 0.0\n",
      "ZW23 0.011 0.496\n",
      "ZW24 0.164 0.435\n",
      "ZW25 0.251 0.402\n",
      "ZW26 0.204 0.42\n"
     ]
    }
   ],
   "source": [
    "for index in elninocycle_yield.index.unique():\n",
    "    statistic, pvalue = ttest_ind(elninocycle_yield[index],laninacycle_yield[index],equal_var=False)\n",
    "    print(index,round(statistic,3), round(pvalue/2,3))"
   ]
  },
  {
   "cell_type": "markdown",
   "metadata": {},
   "source": [
    "This we can't conclude."
   ]
  }
 ],
 "metadata": {
  "kernelspec": {
   "display_name": "Python 3",
   "language": "python",
   "name": "python3"
  },
  "language_info": {
   "codemirror_mode": {
    "name": "ipython",
    "version": 3
   },
   "file_extension": ".py",
   "mimetype": "text/x-python",
   "name": "python",
   "nbconvert_exporter": "python",
   "pygments_lexer": "ipython3",
   "version": "3.7.4"
  }
 },
 "nbformat": 4,
 "nbformat_minor": 4
}
